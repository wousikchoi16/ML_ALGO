{
 "cells": [
  {
   "cell_type": "code",
   "execution_count": 1,
   "metadata": {
    "id": "GW505OZ7MgjF"
   },
   "outputs": [],
   "source": [
    "# 유전 알고리즘을 활용한 머신러닝 입력 최적화 및 대안 제안 메소드\n",
    "# Part 4. 인플루언서 YouTuber 되기 실습\n",
    "# Fast Campus / (주)데이원컴퍼니"
   ]
  },
  {
   "cell_type": "markdown",
   "metadata": {
    "id": "X1-BoFMyM1nQ"
   },
   "source": [
    "# **1. 모듈 설치 및 호출**"
   ]
  },
  {
   "cell_type": "code",
   "execution_count": 2,
   "metadata": {
    "colab": {
     "base_uri": "https://localhost:8080/"
    },
    "id": "rUK3Pqptn-7_",
    "outputId": "d48510bf-8faf-4ae9-96f9-ce46654449f3"
   },
   "outputs": [
    {
     "name": "stdout",
     "output_type": "stream",
     "text": [
      "Collecting geneticalgorithm\n",
      "  Downloading geneticalgorithm-1.0.2-py3-none-any.whl (16 kB)\n",
      "Requirement already satisfied: numpy in c:\\users\\wousi\\anaconda3\\lib\\site-packages (from geneticalgorithm) (1.20.1)\n",
      "Collecting func-timeout\n",
      "  Downloading func_timeout-4.3.5.tar.gz (44 kB)\n",
      "Building wheels for collected packages: func-timeout\n",
      "  Building wheel for func-timeout (setup.py): started\n",
      "  Building wheel for func-timeout (setup.py): finished with status 'done'\n",
      "  Created wheel for func-timeout: filename=func_timeout-4.3.5-py3-none-any.whl size=15077 sha256=5d595efc5f8f76923b8c1d4d973849ea74cc9d0e5b0b23ddb453200bc7221093\n",
      "  Stored in directory: c:\\users\\wousi\\appdata\\local\\pip\\cache\\wheels\\a8\\92\\ca\\5bbab358275e310af23b73fc32ebf37d6a7a08c87c8d2cdbc1\n",
      "Successfully built func-timeout\n",
      "Installing collected packages: func-timeout, geneticalgorithm\n",
      "Successfully installed func-timeout-4.3.5 geneticalgorithm-1.0.2\n"
     ]
    }
   ],
   "source": [
    "!pip install geneticalgorithm"
   ]
  },
  {
   "cell_type": "code",
   "execution_count": 3,
   "metadata": {
    "id": "sDT4sIIVJ8Ui"
   },
   "outputs": [],
   "source": [
    "import copy\n",
    "import math\n",
    "import datetime\n",
    "import itertools\n",
    "import requests\n",
    "from io import BytesIO\n",
    "from random import randint\n",
    "\n",
    "import chardet\n",
    "import numpy as np\n",
    "import pandas as pd\n",
    "import tqdm\n",
    "import matplotlib.pyplot as plt\n",
    "from PIL import Image\n",
    "from scipy.stats import spearmanr\n",
    "from scipy.cluster import hierarchy\n",
    "from sklearn.ensemble import RandomForestRegressor, VotingRegressor\n",
    "from sklearn.inspection import permutation_importance\n",
    "from sklearn.linear_model import ElasticNet\n",
    "from sklearn.metrics import r2_score\n",
    "from sklearn.model_selection import train_test_split, GridSearchCV, RandomizedSearchCV\n",
    "from sklearn.neighbors import KNeighborsRegressor\n",
    "from sklearn.neural_network import MLPRegressor\n",
    "from sklearn.preprocessing import MinMaxScaler\n",
    "from sklearn.svm import SVR\n",
    "from sklearn.utils.fixes import loguniform\n",
    "from xgboost import XGBRegressor\n",
    "from geneticalgorithm import geneticalgorithm\n",
    "\n",
    "\n",
    "pd.set_option('display.max_columns', None) #모든 열을 다 볼수 있게 한다."
   ]
  },
  {
   "cell_type": "markdown",
   "metadata": {
    "id": "OyN5gmsdNHTS"
   },
   "source": [
    "# **2. 데이터 로드 및 탐색적 데이터 분석**"
   ]
  },
  {
   "cell_type": "code",
   "execution_count": 7,
   "metadata": {
    "colab": {
     "base_uri": "https://localhost:8080/",
     "height": 77,
     "resources": {
      "http://localhost:8080/nbextensions/google.colab/files.js": {
       "data": "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",
       "headers": [
        [
         "content-type",
         "application/javascript"
        ]
       ],
       "ok": true,
       "status": 200,
       "status_text": ""
      }
     }
    },
    "id": "g3Hp-l_lH90C",
    "outputId": "09abf45c-3440-436d-bcad-6bdf5b6d257f"
   },
   "outputs": [],
   "source": [
    "# KRvideos.csv 데이터 파일을 Colab에 업로드\n",
    "# Data link: https://www.kaggle.com/datasnaek/youtube-new\n",
    "# 여러 나라 data file중 한국 데이터 (KRvideos.csv) 사용\n",
    "\n",
    "# from google.colab import files, drive\n",
    "# file_uploaded = files.upload()"
   ]
  },
  {
   "cell_type": "code",
   "execution_count": 8,
   "metadata": {
    "colab": {
     "base_uri": "https://localhost:8080/"
    },
    "id": "lQrDg-lcZdvv",
    "outputId": "7c15fd09-d776-474c-8d21-f4784d688764"
   },
   "outputs": [],
   "source": [
    "# Colab에 데이터 파일을 올려놓은 경우\n",
    "# drive.mount('./content')\n",
    "# ! ls /content"
   ]
  },
  {
   "cell_type": "code",
   "execution_count": 5,
   "metadata": {
    "colab": {
     "base_uri": "https://localhost:8080/"
    },
    "id": "V2gcUa4zZLvb",
    "outputId": "dbc74b8b-cf2f-4af1-8805-4d6104bca7f3"
   },
   "outputs": [
    {
     "name": "stdout",
     "output_type": "stream",
     "text": [
      "Encoding type: ascii\n"
     ]
    }
   ],
   "source": [
    "filename = 'KRvideos.csv'\n",
    "\n",
    "with open(filename, 'rb') as f:\n",
    "    result = chardet.detect(f.readline())\n",
    "    print('Encoding type:', result['encoding'])"
   ]
  },
  {
   "cell_type": "code",
   "execution_count": 6,
   "metadata": {
    "colab": {
     "base_uri": "https://localhost:8080/",
     "height": 683
    },
    "id": "umTHeyYfbib0",
    "outputId": "fdc7ac8c-78ec-4d98-ef1e-e457e5025b31"
   },
   "outputs": [
    {
     "data": {
      "text/html": [
       "<div>\n",
       "<style scoped>\n",
       "    .dataframe tbody tr th:only-of-type {\n",
       "        vertical-align: middle;\n",
       "    }\n",
       "\n",
       "    .dataframe tbody tr th {\n",
       "        vertical-align: top;\n",
       "    }\n",
       "\n",
       "    .dataframe thead th {\n",
       "        text-align: right;\n",
       "    }\n",
       "</style>\n",
       "<table border=\"1\" class=\"dataframe\">\n",
       "  <thead>\n",
       "    <tr style=\"text-align: right;\">\n",
       "      <th></th>\n",
       "      <th>video_id</th>\n",
       "      <th>trending_date</th>\n",
       "      <th>title</th>\n",
       "      <th>channel_title</th>\n",
       "      <th>category_id</th>\n",
       "      <th>publish_time</th>\n",
       "      <th>tags</th>\n",
       "      <th>views</th>\n",
       "      <th>likes</th>\n",
       "      <th>dislikes</th>\n",
       "      <th>comment_count</th>\n",
       "      <th>thumbnail_link</th>\n",
       "      <th>comments_disabled</th>\n",
       "      <th>ratings_disabled</th>\n",
       "      <th>video_error_or_removed</th>\n",
       "      <th>description</th>\n",
       "    </tr>\n",
       "  </thead>\n",
       "  <tbody>\n",
       "    <tr>\n",
       "      <th>0</th>\n",
       "      <td>RxGQe4EeEpA</td>\n",
       "      <td>17.14.11</td>\n",
       "      <td>좋아 by 민서_윤종신_좋니 답가</td>\n",
       "      <td>라푸마코리아</td>\n",
       "      <td>22</td>\n",
       "      <td>2017-11-13T07:07:36.000Z</td>\n",
       "      <td>라푸마|\"윤종신\"|\"좋니\"|\"좋아\"|\"샬레\"|\"민서\"</td>\n",
       "      <td>156130</td>\n",
       "      <td>1422</td>\n",
       "      <td>40</td>\n",
       "      <td>272</td>\n",
       "      <td>https://i.ytimg.com/vi/RxGQe4EeEpA/default.jpg</td>\n",
       "      <td>False</td>\n",
       "      <td>False</td>\n",
       "      <td>False</td>\n",
       "      <td>윤종신 '좋니'의 답가 '좋아' 최초 공개!\\n그 여자의 이야기를 지금 만나보세요....</td>\n",
       "    </tr>\n",
       "    <tr>\n",
       "      <th>1</th>\n",
       "      <td>hH7wVE8OlQ0</td>\n",
       "      <td>17.14.11</td>\n",
       "      <td>JSA 귀순 북한군 총격 부상</td>\n",
       "      <td>Edward</td>\n",
       "      <td>25</td>\n",
       "      <td>2017-11-13T10:59:16.000Z</td>\n",
       "      <td>JSA|\"귀순\"|\"북한군\"|\"총격\"|\"부상\"|\"JSA 귀순 북한군 총격 부상\"</td>\n",
       "      <td>76533</td>\n",
       "      <td>211</td>\n",
       "      <td>28</td>\n",
       "      <td>113</td>\n",
       "      <td>https://i.ytimg.com/vi/hH7wVE8OlQ0/default.jpg</td>\n",
       "      <td>False</td>\n",
       "      <td>False</td>\n",
       "      <td>False</td>\n",
       "      <td>[채널A단독]北 병사 현재 '의식불명'… 혈압 떨어지는 중 \\n[채널A단독]우리측 ...</td>\n",
       "    </tr>\n",
       "    <tr>\n",
       "      <th>2</th>\n",
       "      <td>9V8bnWUmE9U</td>\n",
       "      <td>17.14.11</td>\n",
       "      <td>나몰라패밀리 운동화 영상 2탄 (빼빼로데이버젼)</td>\n",
       "      <td>나몰라패밀리 핫쇼</td>\n",
       "      <td>22</td>\n",
       "      <td>2017-11-11T07:16:08.000Z</td>\n",
       "      <td>아디다스|\"빼빼로\"|\"핫쇼\"|\"나몰라패밀리\"|\"대학로\"|\"공연\"</td>\n",
       "      <td>421409</td>\n",
       "      <td>5112</td>\n",
       "      <td>166</td>\n",
       "      <td>459</td>\n",
       "      <td>https://i.ytimg.com/vi/9V8bnWUmE9U/default.jpg</td>\n",
       "      <td>False</td>\n",
       "      <td>False</td>\n",
       "      <td>False</td>\n",
       "      <td>퍼가실때 꼭 출처 부탁드려요</td>\n",
       "    </tr>\n",
       "    <tr>\n",
       "      <th>3</th>\n",
       "      <td>0_8py-t5R80</td>\n",
       "      <td>17.14.11</td>\n",
       "      <td>이명박 출국 현장, 놓치면 안되는 장면</td>\n",
       "      <td>미디어몽구</td>\n",
       "      <td>25</td>\n",
       "      <td>2017-11-12T11:19:52.000Z</td>\n",
       "      <td>이명박|\"이명박 출국금지\"|\"이명박 출국현장\"|\"이명박 바레인\"|\"이명박 대통령\"|...</td>\n",
       "      <td>222850</td>\n",
       "      <td>2093</td>\n",
       "      <td>173</td>\n",
       "      <td>1219</td>\n",
       "      <td>https://i.ytimg.com/vi/0_8py-t5R80/default.jpg</td>\n",
       "      <td>False</td>\n",
       "      <td>False</td>\n",
       "      <td>False</td>\n",
       "      <td>다스는 누구겁니까 듣고 난 후 표정</td>\n",
       "    </tr>\n",
       "    <tr>\n",
       "      <th>4</th>\n",
       "      <td>bk55RbxiQdI</td>\n",
       "      <td>17.14.11</td>\n",
       "      <td>김장겸은 물러갔다 MBC 노조 환호와 눈물</td>\n",
       "      <td>NocutV</td>\n",
       "      <td>25</td>\n",
       "      <td>2017-11-13T11:08:59.000Z</td>\n",
       "      <td>nocutV|\"노컷V\"|\"CBS\"|\"mbc\"|\"김장겸\"|\"해임\"|\"허일후\"</td>\n",
       "      <td>84466</td>\n",
       "      <td>1094</td>\n",
       "      <td>109</td>\n",
       "      <td>450</td>\n",
       "      <td>https://i.ytimg.com/vi/bk55RbxiQdI/default.jpg</td>\n",
       "      <td>False</td>\n",
       "      <td>False</td>\n",
       "      <td>False</td>\n",
       "      <td>김장겸 MBC 사장이 결국 해임됐다.\\n\\nMBC 대주주인 방송문화진흥회는 13일 ...</td>\n",
       "    </tr>\n",
       "  </tbody>\n",
       "</table>\n",
       "</div>"
      ],
      "text/plain": [
       "      video_id trending_date                       title channel_title  \\\n",
       "0  RxGQe4EeEpA      17.14.11          좋아 by 민서_윤종신_좋니 답가        라푸마코리아   \n",
       "1  hH7wVE8OlQ0      17.14.11            JSA 귀순 북한군 총격 부상        Edward   \n",
       "2  9V8bnWUmE9U      17.14.11  나몰라패밀리 운동화 영상 2탄 (빼빼로데이버젼)     나몰라패밀리 핫쇼   \n",
       "3  0_8py-t5R80      17.14.11  이명박 출국 현장, 놓치면 안되는 장면         미디어몽구   \n",
       "4  bk55RbxiQdI      17.14.11     김장겸은 물러갔다 MBC 노조 환호와 눈물        NocutV   \n",
       "\n",
       "   category_id              publish_time  \\\n",
       "0           22  2017-11-13T07:07:36.000Z   \n",
       "1           25  2017-11-13T10:59:16.000Z   \n",
       "2           22  2017-11-11T07:16:08.000Z   \n",
       "3           25  2017-11-12T11:19:52.000Z   \n",
       "4           25  2017-11-13T11:08:59.000Z   \n",
       "\n",
       "                                                tags   views  likes  dislikes  \\\n",
       "0                      라푸마|\"윤종신\"|\"좋니\"|\"좋아\"|\"샬레\"|\"민서\"  156130   1422        40   \n",
       "1        JSA|\"귀순\"|\"북한군\"|\"총격\"|\"부상\"|\"JSA 귀순 북한군 총격 부상\"   76533    211        28   \n",
       "2                아디다스|\"빼빼로\"|\"핫쇼\"|\"나몰라패밀리\"|\"대학로\"|\"공연\"  421409   5112       166   \n",
       "3  이명박|\"이명박 출국금지\"|\"이명박 출국현장\"|\"이명박 바레인\"|\"이명박 대통령\"|...  222850   2093       173   \n",
       "4          nocutV|\"노컷V\"|\"CBS\"|\"mbc\"|\"김장겸\"|\"해임\"|\"허일후\"   84466   1094       109   \n",
       "\n",
       "   comment_count                                  thumbnail_link  \\\n",
       "0            272  https://i.ytimg.com/vi/RxGQe4EeEpA/default.jpg   \n",
       "1            113  https://i.ytimg.com/vi/hH7wVE8OlQ0/default.jpg   \n",
       "2            459  https://i.ytimg.com/vi/9V8bnWUmE9U/default.jpg   \n",
       "3           1219  https://i.ytimg.com/vi/0_8py-t5R80/default.jpg   \n",
       "4            450  https://i.ytimg.com/vi/bk55RbxiQdI/default.jpg   \n",
       "\n",
       "   comments_disabled  ratings_disabled  video_error_or_removed  \\\n",
       "0              False             False                   False   \n",
       "1              False             False                   False   \n",
       "2              False             False                   False   \n",
       "3              False             False                   False   \n",
       "4              False             False                   False   \n",
       "\n",
       "                                         description  \n",
       "0  윤종신 '좋니'의 답가 '좋아' 최초 공개!\\n그 여자의 이야기를 지금 만나보세요....  \n",
       "1  [채널A단독]北 병사 현재 '의식불명'… 혈압 떨어지는 중 \\n[채널A단독]우리측 ...  \n",
       "2                                    퍼가실때 꼭 출처 부탁드려요  \n",
       "3                                다스는 누구겁니까 듣고 난 후 표정  \n",
       "4  김장겸 MBC 사장이 결국 해임됐다.\\n\\nMBC 대주주인 방송문화진흥회는 13일 ...  "
      ]
     },
     "execution_count": 6,
     "metadata": {},
     "output_type": "execute_result"
    }
   ],
   "source": [
    "raw_data = pd.read_csv(filename, engine='python')\n",
    "raw_data.head(5)"
   ]
  },
  {
   "cell_type": "code",
   "execution_count": 9,
   "metadata": {
    "id": "tQw3NeN7QQmf"
   },
   "outputs": [],
   "source": [
    "# KR_category_id.json에서 가져옴\n",
    "category_id_code = {'1': 'Film & Animation',\n",
    "                    '2': 'Autos & Vehicles',\n",
    "                    '10': 'Music',\n",
    "                    '15': 'Pets & Animals',\n",
    "                    '17': 'Sports',\n",
    "                    '18': 'Short Movies',\n",
    "                    '19': 'Travel & Events',\n",
    "                    '20': 'Gaming',\n",
    "                    '21': 'Videoblogging',\n",
    "                    '22': 'People & Blogs',\n",
    "                    '23': 'Comedy',\n",
    "                    '24': 'Entertainment',\n",
    "                    '25': 'News & Politics',\n",
    "                    '26': 'Howto & Style',\n",
    "                    '27': 'Education',\n",
    "                    '28': 'Science & Technology',\n",
    "                    '29': 'Nonprofits & Activism',\n",
    "                    '30': 'Movies',\n",
    "                    '31': 'Anime/Animation',\n",
    "                    '32': 'Action/Adventure',\n",
    "                    '33': 'Classics',\n",
    "                    '34': 'Comedy',\n",
    "                    '35': 'Documentary',\n",
    "                    '36': 'Drama',\n",
    "                    '37': 'Family',\n",
    "                    '38': 'Foreign',                    \n",
    "                    '39': 'Horror',\n",
    "                    '40': 'Sci-Fi/Fantasy',\n",
    "                    '41': 'Thriller',\n",
    "                    '42': 'Shorts',\n",
    "                    '43': 'Shows',\n",
    "                    '44': 'Trailers'}"
   ]
  },
  {
   "cell_type": "code",
   "execution_count": 10,
   "metadata": {
    "colab": {
     "base_uri": "https://localhost:8080/"
    },
    "id": "vTHZXjRmIB07",
    "outputId": "0f51f7b7-6753-4fb7-fcb3-3f9b0d6ef246"
   },
   "outputs": [
    {
     "name": "stdout",
     "output_type": "stream",
     "text": [
      "<class 'pandas.core.frame.DataFrame'>\n",
      "RangeIndex: 34567 entries, 0 to 34566\n",
      "Data columns (total 16 columns):\n",
      " #   Column                  Non-Null Count  Dtype \n",
      "---  ------                  --------------  ----- \n",
      " 0   video_id                34567 non-null  object\n",
      " 1   trending_date           34567 non-null  object\n",
      " 2   title                   34567 non-null  object\n",
      " 3   channel_title           34567 non-null  object\n",
      " 4   category_id             34567 non-null  int64 \n",
      " 5   publish_time            34567 non-null  object\n",
      " 6   tags                    34567 non-null  object\n",
      " 7   views                   34567 non-null  int64 \n",
      " 8   likes                   34567 non-null  int64 \n",
      " 9   dislikes                34567 non-null  int64 \n",
      " 10  comment_count           34567 non-null  int64 \n",
      " 11  thumbnail_link          34567 non-null  object\n",
      " 12  comments_disabled       34567 non-null  bool  \n",
      " 13  ratings_disabled        34567 non-null  bool  \n",
      " 14  video_error_or_removed  34567 non-null  bool  \n",
      " 15  description             31404 non-null  object\n",
      "dtypes: bool(3), int64(5), object(8)\n",
      "memory usage: 3.5+ MB\n"
     ]
    }
   ],
   "source": [
    "raw_data.info()"
   ]
  },
  {
   "cell_type": "code",
   "execution_count": 11,
   "metadata": {
    "colab": {
     "base_uri": "https://localhost:8080/"
    },
    "id": "YL3m7TJEBw_t",
    "outputId": "b424f35b-ba36-4d26-e2e0-85cba4929233"
   },
   "outputs": [
    {
     "data": {
      "text/plain": [
       "3163"
      ]
     },
     "execution_count": 11,
     "metadata": {},
     "output_type": "execute_result"
    }
   ],
   "source": [
    "raw_data['description'].isnull().sum()"
   ]
  },
  {
   "cell_type": "code",
   "execution_count": 12,
   "metadata": {},
   "outputs": [
    {
     "data": {
      "text/plain": [
       "video_id                     0\n",
       "trending_date                0\n",
       "title                        0\n",
       "channel_title                0\n",
       "category_id                  0\n",
       "publish_time                 0\n",
       "tags                         0\n",
       "views                        0\n",
       "likes                        0\n",
       "dislikes                     0\n",
       "comment_count                0\n",
       "thumbnail_link               0\n",
       "comments_disabled            0\n",
       "ratings_disabled             0\n",
       "video_error_or_removed       0\n",
       "description               3163\n",
       "dtype: int64"
      ]
     },
     "execution_count": 12,
     "metadata": {},
     "output_type": "execute_result"
    }
   ],
   "source": [
    "raw_data.isnull().sum()"
   ]
  },
  {
   "cell_type": "code",
   "execution_count": 13,
   "metadata": {
    "colab": {
     "base_uri": "https://localhost:8080/"
    },
    "id": "JfS9PvtoDGN9",
    "outputId": "b7eea570-fcc2-4bdd-da11-b6a4c910f797"
   },
   "outputs": [
    {
     "data": {
      "text/plain": [
       "511"
      ]
     },
     "execution_count": 13,
     "metadata": {},
     "output_type": "execute_result"
    }
   ],
   "source": [
    "raw_data['comments_disabled'][raw_data['comments_disabled'] == True].sum()"
   ]
  },
  {
   "cell_type": "code",
   "execution_count": 17,
   "metadata": {
    "colab": {
     "base_uri": "https://localhost:8080/"
    },
    "id": "p8kwi4VVDvD4",
    "outputId": "1005a0a3-dc53-425b-fa60-017ca569fad2"
   },
   "outputs": [
    {
     "data": {
      "text/plain": [
       "1400"
      ]
     },
     "execution_count": 17,
     "metadata": {},
     "output_type": "execute_result"
    }
   ],
   "source": [
    "raw_data['ratings_disabled'][raw_data['ratings_disabled'] == True].sum()"
   ]
  },
  {
   "cell_type": "code",
   "execution_count": 18,
   "metadata": {
    "colab": {
     "base_uri": "https://localhost:8080/"
    },
    "id": "Li8jaghED4u0",
    "outputId": "b196a181-691c-405a-e4e2-4f1965c7906a"
   },
   "outputs": [
    {
     "data": {
      "text/plain": [
       "41"
      ]
     },
     "execution_count": 18,
     "metadata": {},
     "output_type": "execute_result"
    }
   ],
   "source": [
    "raw_data['video_error_or_removed'][raw_data['video_error_or_removed'] == True].sum()"
   ]
  },
  {
   "cell_type": "code",
   "execution_count": 25,
   "metadata": {},
   "outputs": [
    {
     "data": {
      "text/plain": [
       "['video_id',\n",
       " 'trending_date',\n",
       " 'title',\n",
       " 'channel_title',\n",
       " 'category_id',\n",
       " 'publish_time',\n",
       " 'tags',\n",
       " 'views',\n",
       " 'likes',\n",
       " 'dislikes',\n",
       " 'comment_count',\n",
       " 'thumbnail_link',\n",
       " 'comments_disabled',\n",
       " 'ratings_disabled',\n",
       " 'video_error_or_removed',\n",
       " 'description']"
      ]
     },
     "execution_count": 25,
     "metadata": {},
     "output_type": "execute_result"
    }
   ],
   "source": [
    "# df의 list는 컬럼으로 인식한다\n",
    "list(raw_data) "
   ]
  },
  {
   "cell_type": "code",
   "execution_count": 29,
   "metadata": {
    "colab": {
     "base_uri": "https://localhost:8080/"
    },
    "id": "GOBUpibXETbQ",
    "outputId": "94c9fda4-4d15-4409-fd5d-ff98a89d64eb"
   },
   "outputs": [
    {
     "name": "stdout",
     "output_type": "stream",
     "text": [
      "video_id\n",
      "True     18691\n",
      "False    15876\n",
      "Name: video_id, dtype: int64\n",
      "15876\n",
      "\n",
      "\n",
      "trending_date\n",
      "True     34362\n",
      "False      205\n",
      "Name: trending_date, dtype: int64\n",
      "205\n",
      "\n",
      "\n",
      "title\n",
      "True     18214\n",
      "False    16353\n",
      "Name: title, dtype: int64\n",
      "16353\n",
      "\n",
      "\n",
      "channel_title\n",
      "True     30524\n",
      "False     4043\n",
      "Name: channel_title, dtype: int64\n",
      "4043\n",
      "\n",
      "\n",
      "category_id\n",
      "True     34550\n",
      "False       17\n",
      "Name: category_id, dtype: int64\n",
      "17\n",
      "\n",
      "\n",
      "publish_time\n",
      "True     18705\n",
      "False    15862\n",
      "Name: publish_time, dtype: int64\n",
      "15862\n",
      "\n",
      "\n",
      "tags\n",
      "True     23776\n",
      "False    10791\n",
      "Name: tags, dtype: int64\n",
      "10791\n",
      "\n",
      "\n",
      "views\n",
      "False    30690\n",
      "True      3877\n",
      "Name: views, dtype: int64\n",
      "30690\n",
      "\n",
      "\n",
      "likes\n",
      "True     25093\n",
      "False     9474\n",
      "Name: likes, dtype: int64\n",
      "9474\n",
      "\n",
      "\n",
      "dislikes\n",
      "True     32492\n",
      "False     2075\n",
      "Name: dislikes, dtype: int64\n",
      "2075\n",
      "\n",
      "\n",
      "comment_count\n",
      "True     29878\n",
      "False     4689\n",
      "Name: comment_count, dtype: int64\n",
      "4689\n",
      "\n",
      "\n",
      "thumbnail_link\n",
      "True     18478\n",
      "False    16089\n",
      "Name: thumbnail_link, dtype: int64\n",
      "16089\n",
      "\n",
      "\n",
      "comments_disabled\n",
      "True     34565\n",
      "False        2\n",
      "Name: comments_disabled, dtype: int64\n",
      "2\n",
      "\n",
      "\n",
      "ratings_disabled\n",
      "True     34565\n",
      "False        2\n",
      "Name: ratings_disabled, dtype: int64\n",
      "2\n",
      "\n",
      "\n",
      "video_error_or_removed\n",
      "True     34565\n",
      "False        2\n",
      "Name: video_error_or_removed, dtype: int64\n",
      "2\n",
      "\n",
      "\n",
      "description\n",
      "True     21674\n",
      "False    12893\n",
      "Name: description, dtype: int64\n",
      "12893\n",
      "\n",
      "\n"
     ]
    }
   ],
   "source": [
    "for i in list(raw_data):\n",
    "    print(i)\n",
    "    print(raw_data[i].duplicated().value_counts()) # 중복된수=True, 유니크한수=False\n",
    "    print(len(raw_data[i].unique()))\n",
    "    print('\\n')"
   ]
  },
  {
   "cell_type": "code",
   "execution_count": 31,
   "metadata": {
    "colab": {
     "base_uri": "https://localhost:8080/",
     "height": 683
    },
    "id": "tcYafZQNMOjb",
    "outputId": "a4fb8a17-37a8-4c9e-e694-0efcf4e84fbd"
   },
   "outputs": [
    {
     "data": {
      "text/html": [
       "<div>\n",
       "<style scoped>\n",
       "    .dataframe tbody tr th:only-of-type {\n",
       "        vertical-align: middle;\n",
       "    }\n",
       "\n",
       "    .dataframe tbody tr th {\n",
       "        vertical-align: top;\n",
       "    }\n",
       "\n",
       "    .dataframe thead th {\n",
       "        text-align: right;\n",
       "    }\n",
       "</style>\n",
       "<table border=\"1\" class=\"dataframe\">\n",
       "  <thead>\n",
       "    <tr style=\"text-align: right;\">\n",
       "      <th></th>\n",
       "      <th>video_id</th>\n",
       "      <th>trending_date</th>\n",
       "      <th>title</th>\n",
       "      <th>channel_title</th>\n",
       "      <th>category_id</th>\n",
       "      <th>publish_time</th>\n",
       "      <th>tags</th>\n",
       "      <th>views</th>\n",
       "      <th>likes</th>\n",
       "      <th>dislikes</th>\n",
       "      <th>comment_count</th>\n",
       "      <th>thumbnail_link</th>\n",
       "      <th>comments_disabled</th>\n",
       "      <th>ratings_disabled</th>\n",
       "      <th>video_error_or_removed</th>\n",
       "      <th>description</th>\n",
       "    </tr>\n",
       "  </thead>\n",
       "  <tbody>\n",
       "    <tr>\n",
       "      <th>0</th>\n",
       "      <td>RxGQe4EeEpA</td>\n",
       "      <td>17.14.11</td>\n",
       "      <td>좋아 by 민서_윤종신_좋니 답가</td>\n",
       "      <td>라푸마코리아</td>\n",
       "      <td>22</td>\n",
       "      <td>2017-11-13T07:07:36.000Z</td>\n",
       "      <td>라푸마|\"윤종신\"|\"좋니\"|\"좋아\"|\"샬레\"|\"민서\"</td>\n",
       "      <td>156130</td>\n",
       "      <td>1422</td>\n",
       "      <td>40</td>\n",
       "      <td>272</td>\n",
       "      <td>https://i.ytimg.com/vi/RxGQe4EeEpA/default.jpg</td>\n",
       "      <td>False</td>\n",
       "      <td>False</td>\n",
       "      <td>False</td>\n",
       "      <td>윤종신 '좋니'의 답가 '좋아' 최초 공개!\\n그 여자의 이야기를 지금 만나보세요....</td>\n",
       "    </tr>\n",
       "    <tr>\n",
       "      <th>1</th>\n",
       "      <td>hH7wVE8OlQ0</td>\n",
       "      <td>17.14.11</td>\n",
       "      <td>JSA 귀순 북한군 총격 부상</td>\n",
       "      <td>Edward</td>\n",
       "      <td>25</td>\n",
       "      <td>2017-11-13T10:59:16.000Z</td>\n",
       "      <td>JSA|\"귀순\"|\"북한군\"|\"총격\"|\"부상\"|\"JSA 귀순 북한군 총격 부상\"</td>\n",
       "      <td>76533</td>\n",
       "      <td>211</td>\n",
       "      <td>28</td>\n",
       "      <td>113</td>\n",
       "      <td>https://i.ytimg.com/vi/hH7wVE8OlQ0/default.jpg</td>\n",
       "      <td>False</td>\n",
       "      <td>False</td>\n",
       "      <td>False</td>\n",
       "      <td>[채널A단독]北 병사 현재 '의식불명'… 혈압 떨어지는 중 \\n[채널A단독]우리측 ...</td>\n",
       "    </tr>\n",
       "    <tr>\n",
       "      <th>2</th>\n",
       "      <td>9V8bnWUmE9U</td>\n",
       "      <td>17.14.11</td>\n",
       "      <td>나몰라패밀리 운동화 영상 2탄 (빼빼로데이버젼)</td>\n",
       "      <td>나몰라패밀리 핫쇼</td>\n",
       "      <td>22</td>\n",
       "      <td>2017-11-11T07:16:08.000Z</td>\n",
       "      <td>아디다스|\"빼빼로\"|\"핫쇼\"|\"나몰라패밀리\"|\"대학로\"|\"공연\"</td>\n",
       "      <td>421409</td>\n",
       "      <td>5112</td>\n",
       "      <td>166</td>\n",
       "      <td>459</td>\n",
       "      <td>https://i.ytimg.com/vi/9V8bnWUmE9U/default.jpg</td>\n",
       "      <td>False</td>\n",
       "      <td>False</td>\n",
       "      <td>False</td>\n",
       "      <td>퍼가실때 꼭 출처 부탁드려요</td>\n",
       "    </tr>\n",
       "    <tr>\n",
       "      <th>3</th>\n",
       "      <td>0_8py-t5R80</td>\n",
       "      <td>17.14.11</td>\n",
       "      <td>이명박 출국 현장, 놓치면 안되는 장면</td>\n",
       "      <td>미디어몽구</td>\n",
       "      <td>25</td>\n",
       "      <td>2017-11-12T11:19:52.000Z</td>\n",
       "      <td>이명박|\"이명박 출국금지\"|\"이명박 출국현장\"|\"이명박 바레인\"|\"이명박 대통령\"|...</td>\n",
       "      <td>222850</td>\n",
       "      <td>2093</td>\n",
       "      <td>173</td>\n",
       "      <td>1219</td>\n",
       "      <td>https://i.ytimg.com/vi/0_8py-t5R80/default.jpg</td>\n",
       "      <td>False</td>\n",
       "      <td>False</td>\n",
       "      <td>False</td>\n",
       "      <td>다스는 누구겁니까 듣고 난 후 표정</td>\n",
       "    </tr>\n",
       "    <tr>\n",
       "      <th>4</th>\n",
       "      <td>bk55RbxiQdI</td>\n",
       "      <td>17.14.11</td>\n",
       "      <td>김장겸은 물러갔다 MBC 노조 환호와 눈물</td>\n",
       "      <td>NocutV</td>\n",
       "      <td>25</td>\n",
       "      <td>2017-11-13T11:08:59.000Z</td>\n",
       "      <td>nocutV|\"노컷V\"|\"CBS\"|\"mbc\"|\"김장겸\"|\"해임\"|\"허일후\"</td>\n",
       "      <td>84466</td>\n",
       "      <td>1094</td>\n",
       "      <td>109</td>\n",
       "      <td>450</td>\n",
       "      <td>https://i.ytimg.com/vi/bk55RbxiQdI/default.jpg</td>\n",
       "      <td>False</td>\n",
       "      <td>False</td>\n",
       "      <td>False</td>\n",
       "      <td>김장겸 MBC 사장이 결국 해임됐다.\\n\\nMBC 대주주인 방송문화진흥회는 13일 ...</td>\n",
       "    </tr>\n",
       "  </tbody>\n",
       "</table>\n",
       "</div>"
      ],
      "text/plain": [
       "      video_id trending_date                       title channel_title  \\\n",
       "0  RxGQe4EeEpA      17.14.11          좋아 by 민서_윤종신_좋니 답가        라푸마코리아   \n",
       "1  hH7wVE8OlQ0      17.14.11            JSA 귀순 북한군 총격 부상        Edward   \n",
       "2  9V8bnWUmE9U      17.14.11  나몰라패밀리 운동화 영상 2탄 (빼빼로데이버젼)     나몰라패밀리 핫쇼   \n",
       "3  0_8py-t5R80      17.14.11  이명박 출국 현장, 놓치면 안되는 장면         미디어몽구   \n",
       "4  bk55RbxiQdI      17.14.11     김장겸은 물러갔다 MBC 노조 환호와 눈물        NocutV   \n",
       "\n",
       "   category_id              publish_time  \\\n",
       "0           22  2017-11-13T07:07:36.000Z   \n",
       "1           25  2017-11-13T10:59:16.000Z   \n",
       "2           22  2017-11-11T07:16:08.000Z   \n",
       "3           25  2017-11-12T11:19:52.000Z   \n",
       "4           25  2017-11-13T11:08:59.000Z   \n",
       "\n",
       "                                                tags   views  likes  dislikes  \\\n",
       "0                      라푸마|\"윤종신\"|\"좋니\"|\"좋아\"|\"샬레\"|\"민서\"  156130   1422        40   \n",
       "1        JSA|\"귀순\"|\"북한군\"|\"총격\"|\"부상\"|\"JSA 귀순 북한군 총격 부상\"   76533    211        28   \n",
       "2                아디다스|\"빼빼로\"|\"핫쇼\"|\"나몰라패밀리\"|\"대학로\"|\"공연\"  421409   5112       166   \n",
       "3  이명박|\"이명박 출국금지\"|\"이명박 출국현장\"|\"이명박 바레인\"|\"이명박 대통령\"|...  222850   2093       173   \n",
       "4          nocutV|\"노컷V\"|\"CBS\"|\"mbc\"|\"김장겸\"|\"해임\"|\"허일후\"   84466   1094       109   \n",
       "\n",
       "   comment_count                                  thumbnail_link  \\\n",
       "0            272  https://i.ytimg.com/vi/RxGQe4EeEpA/default.jpg   \n",
       "1            113  https://i.ytimg.com/vi/hH7wVE8OlQ0/default.jpg   \n",
       "2            459  https://i.ytimg.com/vi/9V8bnWUmE9U/default.jpg   \n",
       "3           1219  https://i.ytimg.com/vi/0_8py-t5R80/default.jpg   \n",
       "4            450  https://i.ytimg.com/vi/bk55RbxiQdI/default.jpg   \n",
       "\n",
       "   comments_disabled  ratings_disabled  video_error_or_removed  \\\n",
       "0              False             False                   False   \n",
       "1              False             False                   False   \n",
       "2              False             False                   False   \n",
       "3              False             False                   False   \n",
       "4              False             False                   False   \n",
       "\n",
       "                                         description  \n",
       "0  윤종신 '좋니'의 답가 '좋아' 최초 공개!\\n그 여자의 이야기를 지금 만나보세요....  \n",
       "1  [채널A단독]北 병사 현재 '의식불명'… 혈압 떨어지는 중 \\n[채널A단독]우리측 ...  \n",
       "2                                    퍼가실때 꼭 출처 부탁드려요  \n",
       "3                                다스는 누구겁니까 듣고 난 후 표정  \n",
       "4  김장겸 MBC 사장이 결국 해임됐다.\\n\\nMBC 대주주인 방송문화진흥회는 13일 ...  "
      ]
     },
     "execution_count": 31,
     "metadata": {},
     "output_type": "execute_result"
    }
   ],
   "source": [
    "df = raw_data[raw_data['comments_disabled'] != 1]\n",
    "df = df[df['ratings_disabled'] != 1]\n",
    "df = df[df['video_error_or_removed'] != 1]\n",
    "df = df[df['tags'] != '[none]']\n",
    "df.head(5)"
   ]
  },
  {
   "cell_type": "code",
   "execution_count": 32,
   "metadata": {
    "colab": {
     "base_uri": "https://localhost:8080/"
    },
    "id": "RF6VsOdtNkVZ",
    "outputId": "c01f050f-1a6f-4720-9b87-a1410a11313c"
   },
   "outputs": [
    {
     "name": "stdout",
     "output_type": "stream",
     "text": [
      "Before dropna: 26078\n",
      "After  dropna: 24768\n"
     ]
    }
   ],
   "source": [
    "print('Before dropna:', len(df))\n",
    "df = df.dropna()\n",
    "print('After  dropna:', len(df))\n",
    "df = df.reset_index(drop=True)"
   ]
  },
  {
   "cell_type": "markdown",
   "metadata": {
    "id": "0LKy16y4N4E8"
   },
   "source": [
    "#**3. 피쳐 엔지니어링**"
   ]
  },
  {
   "cell_type": "code",
   "execution_count": null,
   "metadata": {
    "colab": {
     "base_uri": "https://localhost:8080/"
    },
    "id": "yvzKrlALIB7y",
    "outputId": "2db2e09d-ca11-446e-f600-1bfea29fd3a8"
   },
   "outputs": [
    {
     "name": "stderr",
     "output_type": "stream",
     "text": [
      " 12%|████████▋                                                                  | 2869/24768 [10:25<1:23:46,  4.36it/s]"
     ]
    }
   ],
   "source": [
    "r_avg = []\n",
    "g_avg = []\n",
    "b_avg = []\n",
    "\n",
    "for i in tqdm.tqdm(range(len(df))):\n",
    "    url = df['thumbnail_link'][i]\n",
    "    res = requests.get(url)\n",
    "    request_get_img = Image.open(BytesIO(res.content))\n",
    "    red, green, blue = request_get_img.split()\n",
    "\n",
    "    r_avg.append(int(np.average(red)))\n",
    "    g_avg.append(int(np.average(green)))\n",
    "    b_avg.append(int(np.average(blue)))\n",
    "\n",
    "df['r_avg'] = r_avg\n",
    "df['g_avg'] = g_avg\n",
    "df['b_avg'] = b_avg"
   ]
  },
  {
   "cell_type": "code",
   "execution_count": null,
   "metadata": {
    "colab": {
     "base_uri": "https://localhost:8080/",
     "height": 683
    },
    "id": "3dmbFV8vgk5O",
    "outputId": "8fe2aacc-1219-4ae1-f34b-c8aa6af0678c"
   },
   "outputs": [],
   "source": [
    "df.head(5)"
   ]
  },
  {
   "cell_type": "code",
   "execution_count": null,
   "metadata": {
    "colab": {
     "base_uri": "https://localhost:8080/"
    },
    "id": "_YNDzBz-Yhuk",
    "outputId": "d1c386e5-c203-4e14-f0ec-3abad7167874"
   },
   "outputs": [],
   "source": [
    "check_table = df[df['r_avg'] == df['g_avg']]\n",
    "check_table = check_table[check_table['g_avg'] == check_table['b_avg']]\n",
    "print('len_check_table:', len(check_table))\n",
    "\n",
    "print('Before removing non-thumbnail images:', len(df))\n",
    "df_rgb = df[df['r_avg'] != 193]\n",
    "print('After  removing non-thumbnail images:', len(df_rgb))\n",
    "df_rgb = df_rgb.reset_index(drop=True)\n",
    "df_rgb.to_csv('df_color_encode.csv', index_label=False)"
   ]
  },
  {
   "cell_type": "code",
   "execution_count": null,
   "metadata": {
    "colab": {
     "base_uri": "https://localhost:8080/",
     "height": 1000
    },
    "id": "qNjs01M2SOzV",
    "outputId": "78f6936a-79a3-4a82-b6a8-23ed8e4bd9b4"
   },
   "outputs": [],
   "source": [
    "# df_rgb = pd.read_csv('df_color_encode.csv')\n",
    "print(df['video_id'].duplicated().value_counts())\n",
    "df_rgb[df_rgb.duplicated('video_id')].sort_values(by='video_id')"
   ]
  },
  {
   "cell_type": "code",
   "execution_count": null,
   "metadata": {
    "colab": {
     "base_uri": "https://localhost:8080/",
     "height": 1000
    },
    "id": "RIOnPfh7fqgm",
    "outputId": "f2b54bc0-da94-4581-d3ba-a2482068e270"
   },
   "outputs": [],
   "source": [
    "df_rgb[df_rgb['video_id']=='#NAME?']"
   ]
  },
  {
   "cell_type": "code",
   "execution_count": null,
   "metadata": {
    "colab": {
     "base_uri": "https://localhost:8080/"
    },
    "id": "kvKWPcX2S0Ko",
    "outputId": "d673dea4-9fc9-4226-f832-47db7da14e99"
   },
   "outputs": [],
   "source": [
    "print('Before removing duplicated video_id:', len(df_rgb))\n",
    "df_rgb2 = df_rgb.drop_duplicates('video_id')\n",
    "print('After  removing duplicated video_id:', len(df_rgb2))\n",
    "df_rgb2 = df_rgb2.reset_index(drop=True)"
   ]
  },
  {
   "cell_type": "code",
   "execution_count": null,
   "metadata": {
    "colab": {
     "base_uri": "https://localhost:8080/",
     "height": 802
    },
    "id": "u2MQLtuyJ-aW",
    "outputId": "80eb480c-046a-49c4-cfda-2554f9ef1c00"
   },
   "outputs": [],
   "source": [
    "df_rgb2.head(5)"
   ]
  },
  {
   "cell_type": "code",
   "execution_count": null,
   "metadata": {
    "colab": {
     "base_uri": "https://localhost:8080/"
    },
    "id": "U-m0se7vaSrO",
    "outputId": "a92f7bbb-19d4-4553-c015-059117663607"
   },
   "outputs": [],
   "source": [
    "df_rgb2['publish_time2'] = df_rgb2['publish_time'].apply(lambda x: x.split('T')[0])\n",
    "df_rgb2['publish_date'] = df_rgb2['publish_time2'].astype('datetime64[ns]')\n",
    "df_rgb2['publish_date']"
   ]
  },
  {
   "cell_type": "code",
   "execution_count": null,
   "metadata": {
    "colab": {
     "base_uri": "https://localhost:8080/"
    },
    "id": "qWIpoOWShaBq",
    "outputId": "186ccfe7-1303-462b-a062-014d3c7798f0"
   },
   "outputs": [],
   "source": [
    "df_rgb2['trending_date'] = pd.to_datetime(df_rgb2['trending_date'], format=\"%y.%d.%m\")\n",
    "df_rgb2['trending_date']"
   ]
  },
  {
   "cell_type": "code",
   "execution_count": null,
   "metadata": {
    "colab": {
     "base_uri": "https://localhost:8080/"
    },
    "id": "yzTsLtWUiDa8",
    "outputId": "be63c85e-284d-4d2d-f223-57d8deb2c75f"
   },
   "outputs": [],
   "source": [
    "df_rgb2['elapsed_day'] = df_rgb2['trending_date'] - df_rgb2['publish_date'] + datetime.timedelta(days=1)\n",
    "df_rgb2['elapsed_day'] = df_rgb2['elapsed_day'].dt.days\n",
    "df_rgb2['elapsed_day']"
   ]
  },
  {
   "cell_type": "code",
   "execution_count": null,
   "metadata": {
    "id": "2n9iNmFRKRVh"
   },
   "outputs": [],
   "source": [
    "df_rgb2['total_number_of_sign'] = df_rgb2['likes'] + df_rgb2['dislikes']\n",
    "\n",
    "df_rgb2['number_of_tag'] = df_rgb2['tags'].apply(lambda x: len(x.split('|')) if x != '[none]' else 0)\n",
    "\n",
    "df_rgb2['positive_ratio'] = df_rgb2['likes'] / df_rgb2['dislikes']\n",
    "positive_ratio_max = df_rgb2['positive_ratio'].replace([np.inf, -np.inf], 0).max()\n",
    "df_rgb2['positive_ratio'] = df_rgb2['positive_ratio'].replace([np.inf, -np.inf], positive_ratio_max*1.5)\n",
    "\n",
    "df_rgb2['sign_per_day'] = df_rgb2['total_number_of_sign'] / df_rgb2['elapsed_day']\n",
    "\n",
    "df_rgb2['positive_ratio_per_day'] = df_rgb2['positive_ratio'] / df_rgb2['elapsed_day']\n",
    "\n",
    "df_rgb2['comment_per_day'] = df_rgb2['comment_count'] / df_rgb2['elapsed_day']\n",
    "\n",
    "df_rgb2['total_sign_comment_ratio'] = df_rgb2['total_number_of_sign'] / df_rgb2['comment_count']\n",
    "total_sign_comment_ratio_max = df_rgb2['total_sign_comment_ratio'].replace([np.inf, -np.inf], 0).max()\n",
    "df_rgb2['total_sign_comment_ratio'] = \\\n",
    "    df_rgb2['total_sign_comment_ratio'].replace([np.inf, -np.inf], total_sign_comment_ratio_max*1.5)\n",
    "\n",
    "df_rgb2['description_length'] = df_rgb2['description'].apply(lambda x: len(str(x) if pd.isnull(x) is False else 0))\n",
    "\n",
    "df_rgb2['title_length'] = df_rgb2['title'].apply(lambda x: len(str(x) if pd.isnull(x) is False else 0))"
   ]
  },
  {
   "cell_type": "code",
   "execution_count": null,
   "metadata": {
    "colab": {
     "base_uri": "https://localhost:8080/"
    },
    "id": "2drbVB9tKRl3",
    "outputId": "476574f2-2577-4b91-e428-414b63402483"
   },
   "outputs": [],
   "source": [
    "df_rgb2['channel_title'].value_counts()"
   ]
  },
  {
   "cell_type": "code",
   "execution_count": null,
   "metadata": {
    "colab": {
     "base_uri": "https://localhost:8080/"
    },
    "id": "6Twa20Wzi4hB",
    "outputId": "873206a9-6527-4a13-9fbc-51c75e908033"
   },
   "outputs": [],
   "source": [
    "mean_encode_channel = df_rgb2.groupby('channel_title')['views'].mean()\n",
    "print(mean_encode_channel)\n",
    "\n",
    "df_rgb2.loc[:, 'channel_title_mean_enc'] = df_rgb2['channel_title'].map(mean_encode_channel)\n",
    "df_rgb2['channel_title_mean_enc']"
   ]
  },
  {
   "cell_type": "code",
   "execution_count": null,
   "metadata": {
    "colab": {
     "base_uri": "https://localhost:8080/"
    },
    "id": "ZalMyfevjRzK",
    "outputId": "2029cbe7-4c98-4830-d678-a4e5a43241e8"
   },
   "outputs": [],
   "source": [
    "df_rgb2['category_id'].value_counts()"
   ]
  },
  {
   "cell_type": "code",
   "execution_count": null,
   "metadata": {
    "colab": {
     "base_uri": "https://localhost:8080/"
    },
    "id": "BcJP1LQYpHLn",
    "outputId": "60673ef0-6d28-4ee4-d0cb-b750b819a15a"
   },
   "outputs": [],
   "source": [
    "mean_encode_category = df_rgb2.groupby('category_id')['views'].mean()\n",
    "print(mean_encode_category)\n",
    "\n",
    "df_rgb2.loc[:, 'category_id_mean_enc'] = df_rgb2['category_id'].map(mean_encode_category)\n",
    "df_rgb2['category_id_mean_enc']"
   ]
  },
  {
   "cell_type": "code",
   "execution_count": null,
   "metadata": {
    "colab": {
     "base_uri": "https://localhost:8080/",
     "height": 1000
    },
    "id": "zdMI2V34o47U",
    "outputId": "2dfcaa6a-9aeb-43a3-a4df-ae4a83c8de01"
   },
   "outputs": [],
   "source": [
    "plt.figure(figsize=(20, 30))\n",
    "\n",
    "for i in range(1, len(df_rgb2.describe().columns)):\n",
    "    plt.subplot(5, 4, i)\n",
    "    title = str(df_rgb2.describe().columns[i]) + ' vs. Views'\n",
    "    plt.title(title)\n",
    "    plt.xlabel(df_rgb2.describe().columns[i])\n",
    "    plt.ylabel('Views')\n",
    "    plt.grid()\n",
    "    plt.scatter(df_rgb2[df_rgb2.describe().columns[i]], df_rgb2['views'])    "
   ]
  },
  {
   "cell_type": "code",
   "execution_count": null,
   "metadata": {
    "colab": {
     "base_uri": "https://localhost:8080/"
    },
    "id": "9UP3HylbnL6U",
    "outputId": "6dc1c6bb-e3b7-45a6-ede2-625b2dae8656"
   },
   "outputs": [],
   "source": [
    "list(df_rgb2)"
   ]
  },
  {
   "cell_type": "code",
   "execution_count": null,
   "metadata": {
    "colab": {
     "base_uri": "https://localhost:8080/",
     "height": 1000
    },
    "id": "dFTrG4QeGcF6",
    "outputId": "a3f100e6-8d47-454d-feb2-0c24dc882b7f"
   },
   "outputs": [],
   "source": [
    "features = ['likes', 'dislikes', 'comment_count', 'r_avg', 'g_avg', 'b_avg', 'elapsed_day', 'number_of_tag',\n",
    "            'positive_ratio', 'sign_per_day', 'positive_ratio_per_day', 'comment_per_day',\n",
    "            'total_sign_comment_ratio', 'description_length', 'title_length', 'channel_title_mean_enc',\n",
    "            'category_id_mean_enc']\n",
    "\n",
    "x_input = df_rgb2[features]\n",
    "cor_table = x_input.corr()\n",
    "\n",
    "print(cor_table[cor_table > 0.9])\n",
    "\n",
    "fig, (ax1, ax2) = plt.subplots(1, 2, figsize=(12, 8))\n",
    "ax1.set_title('Hierarchical dendrogram')\n",
    "corr = spearmanr(x_input).correlation\n",
    "corr_linkage = hierarchy.ward(corr)\n",
    "dendro = hierarchy.dendrogram(corr_linkage, labels=features, ax=ax1, leaf_rotation=90)\n",
    "\n",
    "dendro_idx = np.arange(0, len(dendro['ivl']))\n",
    "\n",
    "ax2.imshow(corr[dendro['leaves'], :][:, dendro['leaves']])\n",
    "ax2.set_title('Feature correlation')\n",
    "ax2.set_xticks(dendro_idx)\n",
    "ax2.set_yticks(dendro_idx)\n",
    "ax2.set_xticklabels(dendro['ivl'], rotation='vertical')\n",
    "ax2.set_yticklabels(dendro['ivl'])\n",
    "\n",
    "fig.tight_layout()"
   ]
  },
  {
   "cell_type": "code",
   "execution_count": null,
   "metadata": {
    "colab": {
     "base_uri": "https://localhost:8080/",
     "height": 1000
    },
    "id": "wQ9Zzc5hIVxF",
    "outputId": "b505ea1a-0585-4a1b-f2b5-f149c8c08b28"
   },
   "outputs": [],
   "source": [
    "features = ['likes', 'dislikes', 'comment_count', 'elapsed_day', 'number_of_tag',\n",
    "            'positive_ratio', 'description_length', 'title_length',\n",
    "            'r_avg', 'g_avg', 'b_avg',  \n",
    "            'channel_title_mean_enc', 'category_id_mean_enc']            \n",
    "\n",
    "x_input = df_rgb2[features]\n",
    "cor_table = x_input.corr()\n",
    "print(cor_table[cor_table > 0.9])\n",
    "\n",
    "fig, (ax1, ax2) = plt.subplots(1, 2, figsize=(12, 8))\n",
    "ax1.set_title('Hierarchical dendrogram')\n",
    "corr = spearmanr(x_input).correlation\n",
    "corr_linkage = hierarchy.ward(corr)\n",
    "dendro = hierarchy.dendrogram(corr_linkage, labels=features, ax=ax1, leaf_rotation=90)\n",
    "\n",
    "dendro_idx = np.arange(0, len(dendro['ivl']))\n",
    "\n",
    "ax2.imshow(corr[dendro['leaves'], :][:, dendro['leaves']])\n",
    "ax2.set_title('Feature correlation')\n",
    "ax2.set_xticks(dendro_idx)\n",
    "ax2.set_yticks(dendro_idx)\n",
    "ax2.set_xticklabels(dendro['ivl'], rotation='vertical')\n",
    "ax2.set_yticklabels(dendro['ivl'])\n",
    "\n",
    "fig.tight_layout()"
   ]
  },
  {
   "cell_type": "code",
   "execution_count": null,
   "metadata": {
    "id": "vpD6X9PxLB5b"
   },
   "outputs": [],
   "source": [
    "y_output = df_rgb2['views']\n",
    "\n",
    "x_train, x_test, y_train, y_test = train_test_split(x_input, y_output, random_state=42)"
   ]
  },
  {
   "cell_type": "markdown",
   "metadata": {
    "id": "xw3gSuQjO0WF"
   },
   "source": [
    "#**4. 데이터 스케일링**"
   ]
  },
  {
   "cell_type": "code",
   "execution_count": null,
   "metadata": {
    "id": "j8Fw7pxBLCDx"
   },
   "outputs": [],
   "source": [
    "scaler = MinMaxScaler()\n",
    "x_train_scaled = scaler.fit_transform(x_train)\n",
    "x_test_scaled = scaler.transform(x_test)"
   ]
  },
  {
   "cell_type": "markdown",
   "metadata": {
    "id": "R9mjxzM0O9X4"
   },
   "source": [
    "#**5. 모델 생성 및 최적화**"
   ]
  },
  {
   "cell_type": "code",
   "execution_count": null,
   "metadata": {
    "id": "9lHy5bThz1JT"
   },
   "outputs": [],
   "source": [
    "model_name = []\n",
    "train_perf = []\n",
    "test_perf = []"
   ]
  },
  {
   "cell_type": "code",
   "execution_count": null,
   "metadata": {
    "colab": {
     "base_uri": "https://localhost:8080/",
     "height": 557
    },
    "id": "atNzceVwLCJP",
    "outputId": "95088c81-a5b5-4cb8-c401-f978c4619b95"
   },
   "outputs": [],
   "source": [
    "en_model = ElasticNet(max_iter=100000000, random_state=42)\n",
    "\n",
    "en_param = {'l1_ratio': np.arange(0.9, 0.995, 0.005),\n",
    "            'alpha': np.arange(0.0008, 0.0028, 0.0001),\n",
    "            'tol': [1e-2, 3.16e-2, 1e-1, 3.16e-1, 1e0]}\n",
    "\n",
    "clf = GridSearchCV(estimator=en_model, param_grid=en_param, n_jobs=-1, verbose=3)\n",
    "clf.fit(x_train_scaled, y_train)\n",
    "y_train_pred = clf.predict(x_train_scaled)\n",
    "y_test_pred = clf.predict(x_test_scaled)\n",
    "\n",
    "print('Best_estimator:', clf.best_estimator_)\n",
    "print('Best_params:', clf.best_params_)\n",
    "print('Best_score:', clf.best_score_)\n",
    "train_score = r2_score(y_train_pred, y_train)\n",
    "print('Train score:', train_score)\n",
    "test_score = r2_score(y_test_pred, y_test)\n",
    "print('Test  score:', test_score)\n",
    "\n",
    "model_name.append('Elastic Net')\n",
    "train_perf.append(train_score)\n",
    "test_perf.append(test_score)\n",
    "\n",
    "plt.title('Prediction vs ground truth scatter plot (Elastic Net)')\n",
    "plt.xlabel('Prediction')\n",
    "plt.ylabel('Ground truth')\n",
    "plt.grid()\n",
    "plt.scatter(y_test_pred, y_test)"
   ]
  },
  {
   "cell_type": "code",
   "execution_count": null,
   "metadata": {
    "id": "mIndmPTcNn9R"
   },
   "outputs": [],
   "source": [
    "en_model = ElasticNet(alpha=0.0027, l1_ratio=0.96, tol=0.1, max_iter=100000000, random_state=42)"
   ]
  },
  {
   "cell_type": "code",
   "execution_count": null,
   "metadata": {
    "colab": {
     "base_uri": "https://localhost:8080/",
     "height": 575
    },
    "id": "C2Z_IyDuLCOM",
    "outputId": "a2bdcc0a-6e38-4ec8-ba19-bcb04293e61b"
   },
   "outputs": [],
   "source": [
    "rf_model = RandomForestRegressor(n_jobs=-1, random_state=42)\n",
    "\n",
    "rf_param = {'n_estimators': range(76, 136, 20),\n",
    "            'max_depth': range(30, 42, 4),\n",
    "            'min_samples_split': range(2, 5, 1)}\n",
    "\n",
    "clf = GridSearchCV(estimator=rf_model, param_grid=rf_param, n_jobs=-1, verbose=2)\n",
    "\n",
    "clf.fit(x_train_scaled, y_train)\n",
    "y_train_pred = clf.predict(x_train_scaled)\n",
    "y_test_pred = clf.predict(x_test_scaled)\n",
    "\n",
    "print('Best_estimator:', clf.best_estimator_)\n",
    "print('Best_params:', clf.best_params_)\n",
    "print('Best_score:', clf.best_score_)\n",
    "train_score = r2_score(y_train_pred, y_train)\n",
    "print('Train score:', train_score)\n",
    "test_score = r2_score(y_test_pred, y_test)\n",
    "print('Test  score:', test_score)\n",
    "\n",
    "model_name.append('Random Forest')\n",
    "train_perf.append(train_score)\n",
    "test_perf.append(test_score)\n",
    "\n",
    "plt.title('Prediction vs ground truth scatter plot (Random Forest)')\n",
    "plt.xlabel('Prediction')\n",
    "plt.ylabel('Ground truth')\n",
    "plt.grid()\n",
    "plt.scatter(y_test_pred, y_test)"
   ]
  },
  {
   "cell_type": "code",
   "execution_count": null,
   "metadata": {
    "id": "EoqJddbXW4oX"
   },
   "outputs": [],
   "source": [
    "rf_model = RandomForestRegressor(n_estimators=96, max_depth=34, min_samples_split=3, n_jobs=-1, random_state=42)"
   ]
  },
  {
   "cell_type": "code",
   "execution_count": null,
   "metadata": {
    "colab": {
     "base_uri": "https://localhost:8080/",
     "height": 297
    },
    "id": "3V-r3wllLCSb",
    "outputId": "cfeca20b-44ff-490e-d0f5-c4ab591875c2"
   },
   "outputs": [],
   "source": [
    "rf_model.fit(x_train_scaled, y_train)\n",
    "\n",
    "feature_names = ['feature {i}' for i in range(x_train_scaled.shape[1])]\n",
    "\n",
    "importances = rf_model.feature_importances_\n",
    "std = np.std([tree.feature_importances_ for tree in rf_model.estimators_], axis=0)\n",
    "\n",
    "forest_importances = pd.Series(importances, index=features)\n",
    "forest_importances = forest_importances.sort_values(ascending=False)\n",
    "\n",
    "fig, ax = plt.subplots()\n",
    "forest_importances.plot.bar(yerr=std, ax=ax)\n",
    "ax.set_title(\"Feature importances using MDI\")\n",
    "ax.set_ylabel(\"Mean decrease in impurity\")\n",
    "fig.tight_layout()"
   ]
  },
  {
   "cell_type": "code",
   "execution_count": null,
   "metadata": {
    "colab": {
     "base_uri": "https://localhost:8080/",
     "height": 297
    },
    "id": "1_tkPTr6LVeE",
    "outputId": "97dbb97a-8b02-45a0-96ff-ac9a446109c4"
   },
   "outputs": [],
   "source": [
    "result = permutation_importance(rf_model, x_train_scaled, y_train, n_repeats=100, n_jobs=-1, random_state=42)\n",
    "sorted_idx = result.importances_mean.argsort()\n",
    "\n",
    "fig, ax = plt.subplots()\n",
    "ax.boxplot(result.importances[sorted_idx].T, vert=False, labels=x_train.columns[sorted_idx])\n",
    "ax.set_title(\"Permutation importances (train set)\")\n",
    "fig.tight_layout()"
   ]
  },
  {
   "cell_type": "code",
   "execution_count": null,
   "metadata": {
    "colab": {
     "base_uri": "https://localhost:8080/",
     "height": 577
    },
    "id": "DpHk-72hLXUL",
    "outputId": "160eee4d-580e-4c6b-d818-e90e27840a85"
   },
   "outputs": [],
   "source": [
    "mlp_model = MLPRegressor(learning_rate='adaptive', max_iter=2000000, verbose=0,\n",
    "                         early_stopping=True, random_state=42)\n",
    "\n",
    "mlp_param = {'hidden_layer_sizes': [x for x in itertools.product((range(24, 32)), repeat=4)],\n",
    "             'alpha': loguniform(1e-4, 1e-3)}\n",
    "\n",
    "rand_clf = RandomizedSearchCV(estimator=mlp_model, param_distributions=mlp_param, n_iter=10, n_jobs=-1,\n",
    "                              cv=3, verbose=2, random_state=42)\n",
    "\n",
    "rand_clf.fit(x_train_scaled, y_train)\n",
    "\n",
    "y_train_pred = rand_clf.predict(x_train_scaled)\n",
    "y_test_pred = rand_clf.predict(x_test_scaled)\n",
    "\n",
    "print('Best_estimator:', rand_clf.best_estimator_)\n",
    "print('Best_params:', rand_clf.best_params_)\n",
    "print('Best_score:', rand_clf.best_score_)\n",
    "train_score = r2_score(y_train_pred, y_train)\n",
    "print('Train score:', train_score)\n",
    "test_score = r2_score(y_test_pred, y_test)\n",
    "print('Test  score:', test_score)\n",
    "\n",
    "model_name.append('Neural Network')\n",
    "train_perf.append(train_score)\n",
    "test_perf.append(test_score)\n",
    "plt.title('Prediction vs ground truth scatter plot (Neural Network)')\n",
    "plt.xlabel('Prediction')\n",
    "plt.ylabel('Ground truth')\n",
    "plt.grid()\n",
    "plt.scatter(y_test_pred, y_test)"
   ]
  },
  {
   "cell_type": "code",
   "execution_count": null,
   "metadata": {
    "id": "ohF-q3ClS6Dg"
   },
   "outputs": [],
   "source": [
    "mlp_model = MLPRegressor(hidden_layer_sizes=(24, 27, 28, 31), alpha=2.715e-4, learning_rate='adaptive',\n",
    "                         max_iter=2000000, verbose=0, early_stopping=True, random_state=42)"
   ]
  },
  {
   "cell_type": "code",
   "execution_count": null,
   "metadata": {
    "colab": {
     "base_uri": "https://localhost:8080/",
     "height": 630
    },
    "id": "5pC-TTOqLXYB",
    "outputId": "9f2ca9f0-151d-452d-ec47-404ae81ac20e"
   },
   "outputs": [],
   "source": [
    "xgb_model = XGBRegressor(n_jobs=-1, random_state=42)\n",
    "\n",
    "xgb_param = {'n_estimators': range(80, 140, 20),\n",
    "             'max_depth': range(2, 5, 1),\n",
    "             'reg_alpha': [1e-2, 3.16e-2, 1e-1],\n",
    "             'reg_lambda': [0.1, 0.316, 1]}\n",
    "\n",
    "xgb_clf = GridSearchCV(estimator=xgb_model, param_grid=xgb_param, n_jobs=-1, verbose=2, cv=3)\n",
    "\n",
    "xgb_clf.fit(x_train_scaled, y_train)\n",
    "y_train_pred = xgb_clf.predict(x_train_scaled)\n",
    "y_test_pred = xgb_clf.predict(x_test_scaled)\n",
    "\n",
    "print('Best_estimator:', xgb_clf.best_estimator_)\n",
    "print('Best_params:', xgb_clf.best_params_)\n",
    "print('Best_score:', xgb_clf.best_score_)\n",
    "train_score = r2_score(y_train_pred, y_train)\n",
    "print('Train score:', train_score)\n",
    "test_score = r2_score(y_test_pred, y_test)\n",
    "print('Test  score:', test_score)\n",
    "\n",
    "model_name.append('XGBoost')\n",
    "train_perf.append(train_score)\n",
    "test_perf.append(test_score)\n",
    "\n",
    "plt.title('Prediction vs ground truth scatter plot (XGBoost)')\n",
    "plt.xlabel('Prediction')\n",
    "plt.ylabel('Ground truth')\n",
    "plt.grid()\n",
    "plt.scatter(y_test_pred, y_test)"
   ]
  },
  {
   "cell_type": "code",
   "execution_count": null,
   "metadata": {
    "id": "6y3qqTq2aBB0"
   },
   "outputs": [],
   "source": [
    "xgb_model = XGBRegressor(max_depth=4, n_estimators=120, reg_alpha=0.1, reg_lambda=0.1, n_jobs=-1, random_state=42)"
   ]
  },
  {
   "cell_type": "code",
   "execution_count": null,
   "metadata": {
    "colab": {
     "base_uri": "https://localhost:8080/",
     "height": 490
    },
    "id": "Yr8GthcHLXci",
    "outputId": "607728c6-3124-4c71-ae6a-78fa2a830582"
   },
   "outputs": [],
   "source": [
    "svr_model = SVR()\n",
    "\n",
    "svr_param = {'C': [3.16e7, 1e8],\n",
    "             'gamma': [0.1, 0.316]}\n",
    "\n",
    "svr_clf = GridSearchCV(estimator=svr_model, param_grid=svr_param, n_jobs=-1, verbose=3, cv=3)\n",
    "\n",
    "svr_clf.fit(x_train_scaled, y_train)\n",
    "y_train_pred = svr_clf.predict(x_train_scaled)\n",
    "y_test_pred = svr_clf.predict(x_test_scaled)\n",
    "\n",
    "print('Best_estimator:', svr_clf.best_estimator_)\n",
    "print('Best_params:', svr_clf.best_params_)\n",
    "print('Best_score:', svr_clf.best_score_)\n",
    "train_score = r2_score(y_train_pred, y_train)\n",
    "print('Train score:', train_score)\n",
    "test_score = r2_score(y_test_pred, y_test)\n",
    "print('Test  score:', test_score)\n",
    "\n",
    "model_name.append('SVM')\n",
    "train_perf.append(train_score)\n",
    "test_perf.append(test_score)\n",
    "\n",
    "plt.title('Prediction vs ground truth scatter plot (SVM)')\n",
    "plt.xlabel('Prediction')\n",
    "plt.ylabel('Ground truth')\n",
    "plt.grid()\n",
    "plt.scatter(y_test_pred, y_test)"
   ]
  },
  {
   "cell_type": "code",
   "execution_count": null,
   "metadata": {
    "id": "oUoqczd4TPfe"
   },
   "outputs": [],
   "source": [
    "svr_model = SVR(C=1e8, gamma=0.1)"
   ]
  },
  {
   "cell_type": "code",
   "execution_count": null,
   "metadata": {
    "colab": {
     "base_uri": "https://localhost:8080/",
     "height": 522
    },
    "id": "Oy9k_CQZLXgd",
    "outputId": "2608441c-2874-4eae-996c-abc90493bb8d"
   },
   "outputs": [],
   "source": [
    "knn_model = KNeighborsRegressor(n_jobs=-1)\n",
    "\n",
    "knn_param = {'n_neighbors': range(1, 6, 1),\n",
    "             'weights': ['uniform', 'distance'],\n",
    "             'leaf_size': range(1, 5, 1)}\n",
    "\n",
    "knn_clf = GridSearchCV(estimator=knn_model, param_grid=knn_param, n_jobs=-1, verbose=3)\n",
    "\n",
    "knn_clf.fit(x_train_scaled, y_train)\n",
    "y_train_pred = knn_clf.predict(x_train_scaled)\n",
    "y_test_pred = knn_clf.predict(x_test_scaled)\n",
    "\n",
    "print('Best_estimator:', knn_clf.best_estimator_)\n",
    "print('Best_params:', knn_clf.best_params_)\n",
    "print('Best_score:', knn_clf.best_score_)\n",
    "print('Train score:', r2_score(y_train_pred, y_train))\n",
    "print('Test  score:', r2_score(y_test_pred, y_test))\n",
    "\n",
    "plt.title('Prediction vs ground truth scatter plot (kNN)')\n",
    "plt.xlabel('Prediction')\n",
    "plt.ylabel('Ground truth')\n",
    "plt.grid()\n",
    "plt.scatter(y_test_pred, y_test)"
   ]
  },
  {
   "cell_type": "code",
   "execution_count": null,
   "metadata": {
    "colab": {
     "base_uri": "https://localhost:8080/",
     "height": 366
    },
    "id": "OkV2udwYH7EY",
    "outputId": "b6931280-6492-4440-860e-48d45e223a81"
   },
   "outputs": [],
   "source": [
    "plt.title('Model performance comparison')\n",
    "plt.xticks(rotation=90)\n",
    "plt.ylabel('Accuracy')\n",
    "\n",
    "x = np.arange(len(model_name))\n",
    "plt.xticks(x, model_name)\n",
    "plt.bar(x - 0.2, train_perf, width=0.4, label='Train Acc.')\n",
    "plt.bar(x + 0.2, test_perf, width=0.4, label='Test Acc.')\n",
    "plt.legend()"
   ]
  },
  {
   "cell_type": "markdown",
   "metadata": {
    "id": "0VSBFDA3PLzH"
   },
   "source": [
    "#**6. 모델 앙상블**"
   ]
  },
  {
   "cell_type": "code",
   "execution_count": null,
   "metadata": {
    "colab": {
     "base_uri": "https://localhost:8080/",
     "height": 470
    },
    "id": "r3wRugEJLXkh",
    "outputId": "22b8a379-1dcc-44ff-9c4e-c1b425eeed72"
   },
   "outputs": [],
   "source": [
    "ensemble_list = [('xgb', xgb_model),\n",
    "                 ('rf', rf_model),\n",
    "                 ('svm', svr_model),\n",
    "                 ('mlp', mlp_model),\n",
    "                 ('en', en_model)]\n",
    "\n",
    "voting_est = []\n",
    "\n",
    "for idx, target_model in enumerate(ensemble_list):\n",
    "    voting_est.append(target_model)\n",
    "\n",
    "    voting_clf = VotingRegressor(estimators=voting_est, n_jobs=-1)\n",
    "    voting_clf.fit(x_train_scaled, y_train)\n",
    "    y_train_pred = voting_clf.predict(x_train_scaled)\n",
    "    y_test_pred = voting_clf.predict(x_test_scaled)\n",
    "    print(idx + 1, 'Ensemble train score:', r2_score(y_train_pred, y_train))\n",
    "    print(idx + 1, 'Ensemble test  score:', r2_score(y_test_pred, y_test))\n",
    "\n",
    "    plt.scatter(y_test_pred, y_test, label=str(idx + 1), alpha=0.5)\n",
    "    title = 'Prediction vs ground truth scatter plot: Ensemble'     \n",
    "    plt.title(title)\n",
    "    plt.xlabel('Prediction')\n",
    "    plt.ylabel('Ground truth')\n",
    "    plt.grid()\n",
    "    plt.legend()"
   ]
  },
  {
   "cell_type": "code",
   "execution_count": null,
   "metadata": {
    "colab": {
     "base_uri": "https://localhost:8080/"
    },
    "id": "LpsAsLkvLXoa",
    "outputId": "55cbd695-4ae0-4477-e282-db218f333fed"
   },
   "outputs": [],
   "source": [
    "voting_clf = VotingRegressor(estimators=[('xgb', xgb_model), ('rf', rf_model), ('svm', svr_model)],\n",
    "                             n_jobs=-1)\n",
    "voting_clf.fit(x_train_scaled, y_train)"
   ]
  },
  {
   "cell_type": "markdown",
   "metadata": {
    "id": "SXmdNnOOPTWn"
   },
   "source": [
    "#**7. 특성(피쳐) 중요도 분석**"
   ]
  },
  {
   "cell_type": "code",
   "execution_count": null,
   "metadata": {
    "colab": {
     "base_uri": "https://localhost:8080/",
     "height": 352
    },
    "id": "tHGIaCkSLz2N",
    "outputId": "321dae83-90d5-41cb-8bf1-9a623c930cc6"
   },
   "outputs": [],
   "source": [
    "result = permutation_importance(voting_clf, x_train_scaled, y_train, n_repeats=100, n_jobs=-1, random_state=42)\n",
    "sorted_idx = result.importances_mean.argsort()\n",
    "\n",
    "fig, ax = plt.subplots()\n",
    "ax.boxplot(result.importances[sorted_idx].T, vert=False, labels=x_train.columns[sorted_idx])\n",
    "ax.set_title(\"Permutation importances (train set)\")\n",
    "fig.tight_layout()"
   ]
  },
  {
   "cell_type": "code",
   "execution_count": null,
   "metadata": {
    "colab": {
     "base_uri": "https://localhost:8080/"
    },
    "id": "NnjmEAHY3-c3",
    "outputId": "8e78d4e5-2906-43ed-e38f-3d7de61b2e86"
   },
   "outputs": [],
   "source": [
    "x_total = np.concatenate((x_train, x_test), axis=0)\n",
    "y_total = np.concatenate((y_train, y_test), axis=0)\n",
    "\n",
    "x_total_scaled = scaler.transform(x_total)\n",
    "\n",
    "voting_clf.fit(x_total_scaled, y_total)"
   ]
  },
  {
   "cell_type": "markdown",
   "metadata": {
    "id": "DntCOo0yP8R0"
   },
   "source": [
    "#**8. 유전 알고리즘 - 최적 피쳐 탐색: 일반 YouTuber**"
   ]
  },
  {
   "cell_type": "code",
   "execution_count": null,
   "metadata": {
    "colab": {
     "base_uri": "https://localhost:8080/"
    },
    "id": "4DVKdlsbJqhO",
    "outputId": "daff2e76-9526-4bc6-b04c-de1245980c3f"
   },
   "outputs": [],
   "source": [
    "df_rgb2['views'].describe(percentiles=[0.5, 0.75, 0.9, 0.95, 0.99])"
   ]
  },
  {
   "cell_type": "code",
   "execution_count": null,
   "metadata": {
    "id": "2sdO0OFEFAi_"
   },
   "outputs": [],
   "source": [
    "# features = ['likes', 'dislikes', 'comment_count', 'elapsed_day', 'number_of_tag', 'positive_ratio',\n",
    "#             'description_length', 'title_length', 'r_avg', 'g_avg', 'b_avg', 'channel_title_mean_enc',\n",
    "#             'category_id_mean_enc']\n",
    "\n",
    "# 0: 'likes'\n",
    "# 1: 'dislikes'\n",
    "# 2: 'comment_count'\n",
    "# 3: 'elapsed_day'\n",
    "# 4: 'number_of_tag'\n",
    "# 5: 'positive_ratio'\n",
    "# 6: 'description_length'\n",
    "# 7: 'title_length'\n",
    "# 8: 'r_avg'\n",
    "# 9: 'g_avg'\n",
    "# 10: 'b_avg'\n",
    "# 11: 'channel_title_mean_enc'\n",
    "# 12: 'category_id_mean_enc'\n",
    "\n",
    "\n",
    "def input_conversion(x_input):\n",
    "    conversion = [int(x_input[0]),\n",
    "                  int(x_input[1]),\n",
    "                  int(x_input[2]),\n",
    "                  int(x_input[3]),\n",
    "                  int(x_input[4]),\n",
    "                  x_input[0] / x_input[1],\n",
    "                  int(x_input[5]),\n",
    "                  int(x_input[6]),\n",
    "                  int(x_input[7]),\n",
    "                  int(x_input[8]),\n",
    "                  int(x_input[9]),\n",
    "                  mean_encode_channel.iloc[int(x_input[10])],\n",
    "                  mean_encode_category.iloc[int(x_input[11])]]\n",
    "\n",
    "    return conversion"
   ]
  },
  {
   "cell_type": "code",
   "execution_count": null,
   "metadata": {
    "id": "M5bZa7mUJ9lV"
   },
   "outputs": [],
   "source": [
    "# 0: 'likes'\n",
    "# 1: 'dislikes'\n",
    "# 2: 'comment_count'\n",
    "# 3: 'elapsed_day'\n",
    "# 4: 'number_of_tag'\n",
    "# 5: 'positive_ratio'\n",
    "# 6: 'description_length'\n",
    "# 7: 'title_length'\n",
    "# 8: 'r_avg'\n",
    "# 9: 'g_avg'\n",
    "# 10: 'b_avg'\n",
    "# 11: 'channel_title_mean_enc'\n",
    "# 12: 'category_id_mean_enc'\n",
    "\n",
    "varbound = np.array([[df_rgb2['likes'].min(), df_rgb2['likes'].max()],\n",
    "                     [df_rgb2['dislikes'].min() + 1, df_rgb2['dislikes'].max()],\n",
    "                     [df_rgb2['comment_count'].min() + 1, df_rgb2['comment_count'].max()],\n",
    "                     [df_rgb2['elapsed_day'].min(), df_rgb2['elapsed_day'].max()],\n",
    "                     [df_rgb2['number_of_tag'].min(), df_rgb2['number_of_tag'].max()],\n",
    "                     [df_rgb2['description_length'].min(), df_rgb2['description_length'].max()],\n",
    "                     [df_rgb2['title_length'].min(), df_rgb2['title_length'].max()],\n",
    "                     [df_rgb2['r_avg'].min(), df_rgb2['r_avg'].max()],\n",
    "                     [df_rgb2['g_avg'].min(), df_rgb2['g_avg'].max()],\n",
    "                     [df_rgb2['b_avg'].min(), df_rgb2['b_avg'].max()],\n",
    "                     [0, len(mean_encode_channel) - 1],\n",
    "                     # [0, len(mean_encode_category) - 1]],\n",
    "                     [2, 2]])"
   ]
  },
  {
   "cell_type": "code",
   "execution_count": null,
   "metadata": {
    "id": "fZwdaLXNFAnL"
   },
   "outputs": [],
   "source": [
    "def object_function_median(x_input, target_model=voting_clf):\n",
    "    input_converted = input_conversion(x_input)\n",
    "    input_converted = np.array(input_converted).reshape(1, -1)\n",
    "\n",
    "    input_scaled = scaler.transform(input_converted)\n",
    "    prediction = target_model.predict(input_scaled)        \n",
    "\n",
    "    target = df_rgb2['views'].median()\n",
    "    print('Predicted views:', int(prediction), 'Difference from target:', int(prediction - target))\n",
    "\n",
    "    # return abs(int(prediction) - target)\n",
    "    return math.log(abs(target - int(prediction))) "
   ]
  },
  {
   "cell_type": "code",
   "execution_count": null,
   "metadata": {
    "id": "qGpCWv8NGpvd"
   },
   "outputs": [],
   "source": [
    "algorithm_param = {'max_num_iteration': 300,\n",
    "                   'population_size': 100,\n",
    "                   'mutation_probability': 0.1,\n",
    "                   'elit_ratio': 0.01,\n",
    "                   'crossover_probability': 0.5,\n",
    "                   'parents_portion': 0.3,\n",
    "                   'crossover_type': 'uniform',\n",
    "                   'max_iteration_without_improv': None}"
   ]
  },
  {
   "cell_type": "code",
   "execution_count": null,
   "metadata": {
    "colab": {
     "base_uri": "https://localhost:8080/",
     "height": 1000
    },
    "id": "jQ5u12YF1Ge_",
    "outputId": "15e44293-7060-432d-f6fe-01f6879f3303"
   },
   "outputs": [],
   "source": [
    "model_ga_median = geneticalgorithm(function=object_function_median,\n",
    "                                   dimension=12,\n",
    "                                   variable_type='int',\n",
    "                                   variable_boundaries=varbound,\n",
    "                                   algorithm_parameters=algorithm_param)\n",
    "\n",
    "model_ga_median.run()"
   ]
  },
  {
   "cell_type": "code",
   "execution_count": null,
   "metadata": {
    "colab": {
     "base_uri": "https://localhost:8080/"
    },
    "id": "RlpwN2sAzyiy",
    "outputId": "c7138e8f-ea0e-40de-8699-6f772d9c7202"
   },
   "outputs": [],
   "source": [
    "convergence_median = model_ga_median.report\n",
    "solution_median = model_ga_median.output_dict\n",
    "\n",
    "print(convergence_median)\n",
    "print(solution_median)"
   ]
  },
  {
   "cell_type": "code",
   "execution_count": null,
   "metadata": {
    "colab": {
     "base_uri": "https://localhost:8080/",
     "height": 100
    },
    "id": "xttNS_kTlZwa",
    "outputId": "8e10fc72-60e6-4c33-8017-a861c730cbe9"
   },
   "outputs": [],
   "source": [
    "ga_solution = input_conversion(solution_median['variable'])\n",
    "ga_solution = np.array(ga_solution).reshape(1, -1)\n",
    "\n",
    "ga_solution_df = pd.DataFrame(ga_solution, columns=features)\n",
    "ga_solution_df"
   ]
  },
  {
   "cell_type": "code",
   "execution_count": null,
   "metadata": {
    "colab": {
     "base_uri": "https://localhost:8080/",
     "height": 100
    },
    "id": "PWuOxcZbLaKC",
    "outputId": "e3b9f965-b0d0-4e44-fbf3-eb572bc15804"
   },
   "outputs": [],
   "source": [
    "channel_title = mean_encode_channel[mean_encode_channel.isin(ga_solution_df['channel_title_mean_enc'])].index[0]\n",
    "ga_solution_df['channel_title_mean_enc'] = channel_title\n",
    "ga_solution_df = ga_solution_df.rename(columns={'channel_title_mean_enc': 'channel_title'})\n",
    "\n",
    "category_id = mean_encode_category[mean_encode_category.isin(ga_solution_df['category_id_mean_enc'])].index[0]\n",
    "ga_solution_df['category_id_mean_enc'] = category_id\n",
    "ga_solution_df = ga_solution_df.rename(columns={'category_id_mean_enc': 'category_id'})\n",
    "ga_solution_df"
   ]
  },
  {
   "cell_type": "code",
   "execution_count": null,
   "metadata": {
    "colab": {
     "base_uri": "https://localhost:8080/",
     "height": 100
    },
    "id": "zR_yNdDAQmo3",
    "outputId": "8a7e1ef1-7f8e-4b9e-a99e-07a7fddc24d0"
   },
   "outputs": [],
   "source": [
    "ga_solution_df['category_id'] = category_id_code[str(ga_solution_df['category_id'][0])]\n",
    "ga_solution_df = ga_solution_df.rename(columns={'category_id': 'category'})\n",
    "ga_solution_df"
   ]
  },
  {
   "cell_type": "code",
   "execution_count": null,
   "metadata": {
    "colab": {
     "base_uri": "https://localhost:8080/",
     "height": 100
    },
    "id": "yfQwIsn7T7jS",
    "outputId": "15062d27-18b1-4816-f0f6-8cf142826b99"
   },
   "outputs": [],
   "source": [
    "prediction = voting_clf.predict(scaler.transform(ga_solution))\n",
    "ga_solution_df['Views'] = int(prediction[0])\n",
    "ga_solution_median = ga_solution_df\n",
    "ga_solution_median"
   ]
  },
  {
   "cell_type": "markdown",
   "metadata": {
    "id": "e8a9t9ZvQXSx"
   },
   "source": [
    "#**9. 결과 검토 및 분석: 일반 YouTuber**"
   ]
  },
  {
   "cell_type": "code",
   "execution_count": null,
   "metadata": {
    "colab": {
     "base_uri": "https://localhost:8080/",
     "height": 317
    },
    "id": "2wvlWLZkTr4-",
    "outputId": "b4e8ae44-7b60-4566-d14f-9c68ee2fa9ef"
   },
   "outputs": [],
   "source": [
    "df_rgb2.describe()"
   ]
  },
  {
   "cell_type": "code",
   "execution_count": null,
   "metadata": {
    "colab": {
     "base_uri": "https://localhost:8080/"
    },
    "id": "LGAMmhOOr7Z8",
    "outputId": "0938bced-6b27-42b0-d570-8d4fb2e6726a"
   },
   "outputs": [],
   "source": [
    "inf_input = copy.deepcopy(model_ga_median)\n",
    "\n",
    "comment_count_dep_median = []\n",
    "\n",
    "for i in tqdm.tqdm(range(df_rgb2['comment_count'].min(), df_rgb2['comment_count'].max(), 1000)):    \n",
    "    inf_input.output_dict['variable'][2] = i\n",
    "    input_converted = input_conversion(inf_input.output_dict['variable'])\n",
    "    input_converted = np.array(input_converted).reshape(1, -1)\n",
    "\n",
    "    input_scaled = scaler.transform(input_converted)\n",
    "    prediction = voting_clf.predict(input_scaled)    \n",
    "    comment_count_dep_median.append([i, int(prediction)])"
   ]
  },
  {
   "cell_type": "code",
   "execution_count": null,
   "metadata": {
    "colab": {
     "base_uri": "https://localhost:8080/",
     "height": 312
    },
    "id": "kQdBjj-wHcqd",
    "outputId": "56e9dac5-b11d-4a5a-eeb8-25de8a3388b6"
   },
   "outputs": [],
   "source": [
    "comment_count_dep_median_df = pd.DataFrame(comment_count_dep_median, columns=['comment_count', 'views'])\n",
    "\n",
    "plt.title('Comment count dependency for general YouTuber')\n",
    "plt.xlabel('Comment count')\n",
    "plt.ylabel('Views')\n",
    "plt.grid()\n",
    "plt.plot(comment_count_dep_median_df['comment_count'], comment_count_dep_median_df['views'])"
   ]
  },
  {
   "cell_type": "code",
   "execution_count": null,
   "metadata": {
    "colab": {
     "base_uri": "https://localhost:8080/"
    },
    "id": "-uplZ0Ibj4_u",
    "outputId": "98d829c4-f17f-4b16-b908-729935335eba"
   },
   "outputs": [],
   "source": [
    "inf_input = copy.deepcopy(model_ga_median)\n",
    "\n",
    "positive_ratio_dep_median = []\n",
    "\n",
    "total_sign = inf_input.output_dict['variable'][0] + inf_input.output_dict['variable'][1]\n",
    "calculation_plot = 500\n",
    "step = total_sign / calculation_plot\n",
    "\n",
    "for i in tqdm.tqdm(np.arange(1, total_sign, step)):    \n",
    "    inf_input.output_dict['variable'][0] = int(i)\n",
    "    inf_input.output_dict['variable'][1] = total_sign - int(i)\n",
    "    ratio = inf_input.output_dict['variable'][0] / inf_input.output_dict['variable'][1]\n",
    "\n",
    "    input_converted = input_conversion(inf_input.output_dict['variable'])\n",
    "    input_converted = np.array(input_converted).reshape(1, -1)\n",
    "\n",
    "    input_scaled = scaler.transform(input_converted)\n",
    "    prediction = voting_clf.predict(input_scaled)   \n",
    "    positive_ratio_dep_median.append([ratio, int(prediction)])"
   ]
  },
  {
   "cell_type": "code",
   "execution_count": null,
   "metadata": {
    "colab": {
     "base_uri": "https://localhost:8080/",
     "height": 316
    },
    "id": "t81PdKHej5K1",
    "outputId": "b9941e79-3fae-48d1-8cc9-5a32902476e7"
   },
   "outputs": [],
   "source": [
    "positive_ratio_dep_median_df = pd.DataFrame(positive_ratio_dep_median, columns=['positive_ratio', 'views'])\n",
    "\n",
    "plt.title('Positive ratio dependency for general YouTuber')\n",
    "plt.xlabel('Positive ratio')\n",
    "plt.ylabel('Views')\n",
    "plt.xscale('log')\n",
    "plt.grid()\n",
    "plt.bar(positive_ratio_dep_median_df['positive_ratio'], positive_ratio_dep_median_df['views'])"
   ]
  },
  {
   "cell_type": "code",
   "execution_count": null,
   "metadata": {
    "colab": {
     "base_uri": "https://localhost:8080/"
    },
    "id": "QBsDMNKh5rFc",
    "outputId": "fb4459e6-7c5c-442c-d09d-8c8557b390dc"
   },
   "outputs": [],
   "source": [
    "inf_input = copy.deepcopy(model_ga_median)\n",
    "\n",
    "number_of_tag_dep_median = []\n",
    "\n",
    "for i in tqdm.tqdm(range(df_rgb2['number_of_tag'].min(), df_rgb2['number_of_tag'].max())):    \n",
    "    inf_input.output_dict['variable'][4] = i\n",
    "    input_converted = input_conversion(inf_input.output_dict['variable'])\n",
    "    input_converted = np.array(input_converted).reshape(1, -1)\n",
    "\n",
    "    input_scaled = scaler.transform(input_converted)\n",
    "    prediction = voting_clf.predict(input_scaled)   \n",
    "    number_of_tag_dep_median.append([i, int(prediction)])"
   ]
  },
  {
   "cell_type": "code",
   "execution_count": null,
   "metadata": {
    "colab": {
     "base_uri": "https://localhost:8080/",
     "height": 312
    },
    "id": "fzJ2coAP5rOt",
    "outputId": "a810e4e8-057f-4610-db20-041039175ed5"
   },
   "outputs": [],
   "source": [
    "number_of_tag_dep_median_df = pd.DataFrame(number_of_tag_dep_median, columns=['number_of_tag', 'views'])\n",
    "\n",
    "plt.title('Number of tag dependency for general YouTuber')\n",
    "plt.xlabel('The number of tag')\n",
    "plt.ylabel('Views')\n",
    "plt.grid()\n",
    "plt.bar(number_of_tag_dep_median_df['number_of_tag'], number_of_tag_dep_median_df['views'])"
   ]
  },
  {
   "cell_type": "code",
   "execution_count": null,
   "metadata": {
    "colab": {
     "base_uri": "https://localhost:8080/"
    },
    "id": "38rvYeMMj5QB",
    "outputId": "d87507cd-a40e-4fa8-8035-ceef29bf300f"
   },
   "outputs": [],
   "source": [
    "inf_input = copy.deepcopy(model_ga_median)\n",
    "\n",
    "random_image_dep_median = []\n",
    "\n",
    "for i in tqdm.tqdm(range(2000)):    \n",
    "    inf_input.output_dict['variable'][7] = randint(df_rgb2['r_avg'].min(), df_rgb2['r_avg'].max())\n",
    "    inf_input.output_dict['variable'][8] = randint(df_rgb2['g_avg'].min(), df_rgb2['g_avg'].max())\n",
    "    inf_input.output_dict['variable'][9] = randint(df_rgb2['b_avg'].min(), df_rgb2['b_avg'].max())\n",
    "    input_converted = input_conversion(inf_input.output_dict['variable'])\n",
    "    input_converted = np.array(input_converted).reshape(1, -1)\n",
    "\n",
    "    input_scaled = scaler.transform(input_converted)\n",
    "    prediction = voting_clf.predict(input_scaled)    \n",
    "    random_image_dep_median.append([i, int(prediction)])"
   ]
  },
  {
   "cell_type": "code",
   "execution_count": null,
   "metadata": {
    "colab": {
     "base_uri": "https://localhost:8080/",
     "height": 298
    },
    "id": "QiB0SAEoj5Un",
    "outputId": "52c82f3f-e103-4485-9254-6789e1407014"
   },
   "outputs": [],
   "source": [
    "random_image_dep_median_df = pd.DataFrame(random_image_dep_median, columns=['Random_image', 'Views'])\n",
    "\n",
    "plt.grid()\n",
    "plt.title('Thumbnail image dependency')\n",
    "plt.plot(random_image_dep_median_df['Random_image'], random_image_dep_median_df['Views'])"
   ]
  },
  {
   "cell_type": "code",
   "execution_count": null,
   "metadata": {
    "colab": {
     "base_uri": "https://localhost:8080/",
     "height": 365
    },
    "id": "1DGEE0Rpj5ZE",
    "outputId": "bdb86936-c8d7-4e98-cd25-9962f052d67e"
   },
   "outputs": [],
   "source": [
    "plt.grid()\n",
    "plt.title('Views distribution for randomized thumbnail images')\n",
    "plt.xlabel('Views')\n",
    "plt.ylabel('Counts')\n",
    "plt.hist(random_image_dep_median_df['Views'], bins=96)\n",
    "\n",
    "print('Average views:', random_image_dep_median_df['Views'].mean())\n",
    "print('Median views:', random_image_dep_median_df['Views'].median())\n",
    "print('Standard deviation of views [count]:', random_image_dep_median_df['Views'].std())\n",
    "print('Standard deviation of views     [%]:', random_image_dep_median_df['Views'].std()*100 / random_image_dep_median_df['Views'].mean())"
   ]
  },
  {
   "cell_type": "code",
   "execution_count": null,
   "metadata": {
    "colab": {
     "base_uri": "https://localhost:8080/"
    },
    "id": "lkGQLh0Bj5dk",
    "outputId": "78b4e083-ecf0-4a52-f761-dc38de7e0e25"
   },
   "outputs": [],
   "source": [
    "inf_input = copy.deepcopy(model_ga_median)\n",
    "\n",
    "channel_title_dep_median = []\n",
    "\n",
    "for i in tqdm.tqdm(range(len(mean_encode_channel))):\n",
    "    inf_input.output_dict['variable'][10] = i \n",
    "    \n",
    "    input_converted = input_conversion(inf_input.output_dict['variable'])\n",
    "    input_converted = np.array(input_converted).reshape(1, -1)\n",
    "\n",
    "    input_scaled = scaler.transform(input_converted)\n",
    "    prediction = voting_clf.predict(input_scaled)    \n",
    "    channel_title_dep_median.append([mean_encode_channel.index[i], int(prediction)])"
   ]
  },
  {
   "cell_type": "code",
   "execution_count": null,
   "metadata": {
    "colab": {
     "base_uri": "https://localhost:8080/",
     "height": 312
    },
    "id": "4TWj6O4cri0L",
    "outputId": "6bdd2aa3-0913-4425-a86a-b3bd9a187be6"
   },
   "outputs": [],
   "source": [
    "channel_title_dep_median_df = pd.DataFrame(channel_title_dep_median, columns=['channel_title', 'views'])\n",
    "\n",
    "plt.title('Channel dependency for general YouTuber')\n",
    "plt.xlabel('Channel name')\n",
    "plt.ylabel('Views')\n",
    "plt.yscale('log')\n",
    "plt.grid()\n",
    "plt.bar(range(len(channel_title_dep_median_df['channel_title'])), channel_title_dep_median_df['views'])"
   ]
  },
  {
   "cell_type": "code",
   "execution_count": null,
   "metadata": {
    "colab": {
     "base_uri": "https://localhost:8080/",
     "height": 359
    },
    "id": "NXvm9qwJ0PxG",
    "outputId": "16fc6a1a-f696-4d99-a800-82f15139eeaf"
   },
   "outputs": [],
   "source": [
    "channel_title_dep_median_df.sort_values(by='views', ascending=False).head(10)"
   ]
  },
  {
   "cell_type": "code",
   "execution_count": null,
   "metadata": {
    "colab": {
     "base_uri": "https://localhost:8080/",
     "height": 365
    },
    "id": "HR8CT5z_zS3_",
    "outputId": "c22b6003-0a2e-4fc2-a009-1781121f8e19"
   },
   "outputs": [],
   "source": [
    "plt.grid()\n",
    "plt.title('Views distribution for different channels')\n",
    "plt.xlabel('Views')\n",
    "plt.ylabel('Counts')\n",
    "plt.yscale('log')\n",
    "plt.hist(channel_title_dep_median_df['views'], bins=96)\n",
    "\n",
    "print('Average views:', channel_title_dep_median_df['views'].mean())\n",
    "print('Median views:', channel_title_dep_median_df['views'].median())\n",
    "print('Standard deviation of views [count]:', channel_title_dep_median_df['views'].std())\n",
    "print('Standard deviation of views     [%]:', channel_title_dep_median_df['views'].std()*100 / channel_title_dep_median_df['views'].mean())"
   ]
  },
  {
   "cell_type": "markdown",
   "metadata": {
    "id": "iLLSksFl7qbn"
   },
   "source": [
    "#**10. 유전 알고리즘 - 최적 피쳐 탐색: Top YouTuber**"
   ]
  },
  {
   "cell_type": "code",
   "execution_count": null,
   "metadata": {
    "id": "iEupdSJD0Uih"
   },
   "outputs": [],
   "source": [
    "# 0: 'likes'\n",
    "# 1: 'dislikes'\n",
    "# 2: 'comment_count'\n",
    "# 3: 'elapsed_day'\n",
    "# 4: 'number_of_tag'\n",
    "# 5: 'positive_ratio'\n",
    "# 6: 'description_length'\n",
    "# 7: 'title_length'\n",
    "# 8: 'r_avg'\n",
    "# 9: 'g_avg'\n",
    "# 10: 'b_avg'\n",
    "# 11: 'channel_title_mean_enc'\n",
    "# 12: 'category_id_mean_enc'\n",
    "\n",
    "varbound = np.array([[df_rgb2['likes'].min(), df_rgb2['likes'].max()*2],\n",
    "                     [df_rgb2['dislikes'].min() + 1, df_rgb2['dislikes'].max()*2],\n",
    "                     [df_rgb2['comment_count'].min() + 1, df_rgb2['comment_count'].max()*2],\n",
    "                     [df_rgb2['elapsed_day'].min(), df_rgb2['elapsed_day'].max()],\n",
    "                     [df_rgb2['number_of_tag'].min(), df_rgb2['number_of_tag'].max()],\n",
    "                     [df_rgb2['description_length'].min(), df_rgb2['description_length'].max()],\n",
    "                     [df_rgb2['title_length'].min(), df_rgb2['title_length'].max()*2],\n",
    "                     [df_rgb2['r_avg'].min(), df_rgb2['r_avg'].max()],\n",
    "                     [df_rgb2['g_avg'].min(), df_rgb2['g_avg'].max()],\n",
    "                     [df_rgb2['b_avg'].min(), df_rgb2['b_avg'].max()],\n",
    "                     [0, len(mean_encode_channel) - 1],\n",
    "                     # [0, len(mean_encode_category) - 1]],\n",
    "                     [2, 2]])"
   ]
  },
  {
   "cell_type": "code",
   "execution_count": null,
   "metadata": {
    "id": "NQd-7fYxYWq5"
   },
   "outputs": [],
   "source": [
    "def object_function_top(x_input, target_model=voting_clf):\n",
    "    input_converted = input_conversion(x_input)\n",
    "    input_converted = np.array(input_converted).reshape(1, -1)\n",
    "\n",
    "    input_scaled = scaler.transform(input_converted)\n",
    "    prediction = target_model.predict(input_scaled)        \n",
    "\n",
    "    target = 70000000\n",
    "    print('Predicted views:', int(prediction), 'Difference from target:', int(target - prediction))\n",
    "\n",
    "    # return abs(int(prediction) - target)\n",
    "    return math.log(abs(target - int(prediction))) "
   ]
  },
  {
   "cell_type": "code",
   "execution_count": null,
   "metadata": {
    "id": "Rn1oPlVfYWq5"
   },
   "outputs": [],
   "source": [
    "algorithm_param = {'max_num_iteration': 300,\n",
    "                   'population_size': 100,\n",
    "                   'mutation_probability': 0.1,\n",
    "                   'elit_ratio': 0.01,\n",
    "                   'crossover_probability': 0.5,\n",
    "                   'parents_portion': 0.3,\n",
    "                   'crossover_type': 'uniform',\n",
    "                   'max_iteration_without_improv': None}"
   ]
  },
  {
   "cell_type": "code",
   "execution_count": null,
   "metadata": {
    "colab": {
     "base_uri": "https://localhost:8080/",
     "height": 1000
    },
    "id": "YL2qGaSzYWq5",
    "outputId": "97fe63f8-4110-4dc8-b538-84abae08bd46"
   },
   "outputs": [],
   "source": [
    "model_ga_top = geneticalgorithm(function=object_function_top,\n",
    "                                dimension=12,\n",
    "                                variable_type='int',\n",
    "                                variable_boundaries=varbound,\n",
    "                                algorithm_parameters=algorithm_param)\n",
    "\n",
    "model_ga_top.run()"
   ]
  },
  {
   "cell_type": "code",
   "execution_count": null,
   "metadata": {
    "colab": {
     "base_uri": "https://localhost:8080/"
    },
    "id": "qNg3iu9XYWq5",
    "outputId": "8da3a78f-37b0-4914-fdb9-bc1d46b7a431"
   },
   "outputs": [],
   "source": [
    "convergence_top = model_ga_top.report\n",
    "solution_top = model_ga_top.output_dict\n",
    "\n",
    "print(convergence_top)\n",
    "print(solution_top)"
   ]
  },
  {
   "cell_type": "code",
   "execution_count": null,
   "metadata": {
    "colab": {
     "base_uri": "https://localhost:8080/",
     "height": 100
    },
    "id": "pff6Z4hkYWq6",
    "outputId": "d5c78b68-e29b-4d36-ce87-8995a00a7cdc"
   },
   "outputs": [],
   "source": [
    "ga_solution = input_conversion(solution_top['variable'])\n",
    "ga_solution = np.array(ga_solution).reshape(1, -1)\n",
    "\n",
    "ga_solution_df = pd.DataFrame(ga_solution, columns=features)\n",
    "ga_solution_df"
   ]
  },
  {
   "cell_type": "code",
   "execution_count": null,
   "metadata": {
    "colab": {
     "base_uri": "https://localhost:8080/",
     "height": 117
    },
    "id": "9TwXIp8OYWq6",
    "outputId": "54a3dbc5-48ce-4a0d-9c96-bba8955ba133"
   },
   "outputs": [],
   "source": [
    "channel_title = mean_encode_channel[mean_encode_channel.isin(ga_solution_df['channel_title_mean_enc'])].index[0]\n",
    "ga_solution_df['channel_title_mean_enc'] = channel_title\n",
    "ga_solution_df = ga_solution_df.rename(columns={'channel_title_mean_enc': 'channel_title'})\n",
    "\n",
    "category_id = mean_encode_category[mean_encode_category.isin(ga_solution_df['category_id_mean_enc'])].index[0]\n",
    "ga_solution_df['category_id_mean_enc'] = category_id\n",
    "ga_solution_df = ga_solution_df.rename(columns={'category_id_mean_enc': 'category_id'})\n",
    "ga_solution_df"
   ]
  },
  {
   "cell_type": "code",
   "execution_count": null,
   "metadata": {
    "colab": {
     "base_uri": "https://localhost:8080/",
     "height": 117
    },
    "id": "rRiHj2HGYWq6",
    "outputId": "dfd1a51c-8520-459e-c49a-f8f774049aab"
   },
   "outputs": [],
   "source": [
    "ga_solution_df['category_id'] = category_id_code[str(ga_solution_df['category_id'][0])]\n",
    "ga_solution_df = ga_solution_df.rename(columns={'category_id': 'category'})\n",
    "ga_solution_df"
   ]
  },
  {
   "cell_type": "code",
   "execution_count": null,
   "metadata": {
    "colab": {
     "base_uri": "https://localhost:8080/",
     "height": 117
    },
    "id": "ktWgI4lLYWq6",
    "outputId": "1a47a39d-d00c-4185-8adb-e15621703725"
   },
   "outputs": [],
   "source": [
    "prediction = voting_clf.predict(scaler.transform(ga_solution))\n",
    "ga_solution_df['Views'] = int(prediction[0])\n",
    "ga_solution_top = ga_solution_df\n",
    "ga_solution_top"
   ]
  },
  {
   "cell_type": "markdown",
   "metadata": {
    "id": "jeL13KNRYWq7"
   },
   "source": [
    "#**11. 결과 검토 및 분석: Top YouTuber**"
   ]
  },
  {
   "cell_type": "code",
   "execution_count": null,
   "metadata": {
    "colab": {
     "base_uri": "https://localhost:8080/",
     "height": 317
    },
    "id": "FeGYOm-8YWq7",
    "outputId": "2f81c3c1-e37f-4973-bd4f-59e66f621033"
   },
   "outputs": [],
   "source": [
    "df_rgb2.describe()"
   ]
  },
  {
   "cell_type": "code",
   "execution_count": null,
   "metadata": {
    "colab": {
     "base_uri": "https://localhost:8080/"
    },
    "id": "6VgnvguuYWq7",
    "outputId": "8c04080d-e001-49da-c360-f3bef4ca31e6"
   },
   "outputs": [],
   "source": [
    "inf_input = copy.deepcopy(model_ga_top)\n",
    "\n",
    "comment_count_dep_top = []\n",
    "\n",
    "for i in tqdm.tqdm(range(df_rgb2['comment_count'].min(), df_rgb2['comment_count'].max(), 1000)):    \n",
    "    inf_input.output_dict['variable'][2] = i\n",
    "    input_converted = input_conversion(inf_input.output_dict['variable'])\n",
    "    input_converted = np.array(input_converted).reshape(1, -1)\n",
    "\n",
    "    input_scaled = scaler.transform(input_converted)\n",
    "    prediction = voting_clf.predict(input_scaled)    \n",
    "    comment_count_dep_top.append([i, int(prediction)])"
   ]
  },
  {
   "cell_type": "code",
   "execution_count": null,
   "metadata": {
    "colab": {
     "base_uri": "https://localhost:8080/",
     "height": 312
    },
    "id": "DWUC9FXnYWq8",
    "outputId": "c1382f89-0646-4694-db35-f00c731878ce"
   },
   "outputs": [],
   "source": [
    "comment_count_dep_top_df = pd.DataFrame(comment_count_dep_top, columns=['comment_count', 'views'])\n",
    "\n",
    "plt.title('Comment count dependency for general YouTuber')\n",
    "plt.xlabel('Comment count')\n",
    "plt.ylabel('Views')\n",
    "plt.grid()\n",
    "plt.plot(comment_count_dep_top_df['comment_count'], comment_count_dep_top_df['views'])"
   ]
  },
  {
   "cell_type": "code",
   "execution_count": null,
   "metadata": {
    "colab": {
     "base_uri": "https://localhost:8080/"
    },
    "id": "rL_TkBbvYWq8",
    "outputId": "1aad5cbe-a6fc-4fd7-c34d-0b467ba19781"
   },
   "outputs": [],
   "source": [
    "inf_input = copy.deepcopy(model_ga_top)\n",
    "\n",
    "positive_ratio_dep_top = []\n",
    "\n",
    "total_sign = inf_input.output_dict['variable'][0] + inf_input.output_dict['variable'][1]\n",
    "calculation_plot = 500\n",
    "step = total_sign / calculation_plot\n",
    "\n",
    "for i in tqdm.tqdm(np.arange(1, total_sign, step)):    \n",
    "    inf_input.output_dict['variable'][0] = int(i)\n",
    "    inf_input.output_dict['variable'][1] = total_sign - int(i)\n",
    "    ratio = inf_input.output_dict['variable'][0] / inf_input.output_dict['variable'][1]\n",
    "\n",
    "    input_converted = input_conversion(inf_input.output_dict['variable'])\n",
    "    input_converted = np.array(input_converted).reshape(1, -1)\n",
    "\n",
    "    input_scaled = scaler.transform(input_converted)\n",
    "    prediction = voting_clf.predict(input_scaled)   \n",
    "    positive_ratio_dep_top.append([ratio, int(prediction)])"
   ]
  },
  {
   "cell_type": "code",
   "execution_count": null,
   "metadata": {
    "colab": {
     "base_uri": "https://localhost:8080/",
     "height": 316
    },
    "id": "bGokQUueYWq8",
    "outputId": "735901ee-2436-4e6a-ba8f-6c6b1ed6f37a"
   },
   "outputs": [],
   "source": [
    "positive_ratio_dep_top_df = pd.DataFrame(positive_ratio_dep_top, columns=['positive_ratio', 'views'])\n",
    "\n",
    "plt.title('Positive ratio dependency for top YouTuber')\n",
    "plt.xlabel('Positive ratio')\n",
    "plt.ylabel('Views')\n",
    "plt.xscale('log')\n",
    "plt.grid()\n",
    "plt.bar(positive_ratio_dep_top_df['positive_ratio'], positive_ratio_dep_top_df['views'])"
   ]
  },
  {
   "cell_type": "code",
   "execution_count": null,
   "metadata": {
    "colab": {
     "base_uri": "https://localhost:8080/"
    },
    "id": "hYi2fjN8YWq9",
    "outputId": "6cef0924-d1a5-4354-8c71-965f4138617d"
   },
   "outputs": [],
   "source": [
    "inf_input = copy.deepcopy(model_ga_top)\n",
    "\n",
    "number_of_tag_dep_top = []\n",
    "\n",
    "for i in tqdm.tqdm(range(df_rgb2['number_of_tag'].min(), df_rgb2['number_of_tag'].max())):    \n",
    "    inf_input.output_dict['variable'][4] = i\n",
    "    input_converted = input_conversion(inf_input.output_dict['variable'])\n",
    "    input_converted = np.array(input_converted).reshape(1, -1)\n",
    "\n",
    "    input_scaled = scaler.transform(input_converted)\n",
    "    prediction = voting_clf.predict(input_scaled)   \n",
    "    number_of_tag_dep_top.append([i, int(prediction)])"
   ]
  },
  {
   "cell_type": "code",
   "execution_count": null,
   "metadata": {
    "colab": {
     "base_uri": "https://localhost:8080/",
     "height": 312
    },
    "id": "-QZfXwC0YWq9",
    "outputId": "90ebf8c2-a122-4fe6-f040-68aa1b8d3212"
   },
   "outputs": [],
   "source": [
    "number_of_tag_dep_top_df = pd.DataFrame(number_of_tag_dep_top, columns=['number_of_tag', 'views'])\n",
    "\n",
    "plt.title('Number of tag dependency for top YouTuber')\n",
    "plt.xlabel('The number of tag')\n",
    "plt.ylabel('Views')\n",
    "plt.grid()\n",
    "plt.bar(number_of_tag_dep_top_df['number_of_tag'], number_of_tag_dep_top_df['views'])"
   ]
  },
  {
   "cell_type": "code",
   "execution_count": null,
   "metadata": {
    "colab": {
     "base_uri": "https://localhost:8080/"
    },
    "id": "J3sVVN9yYWq9",
    "outputId": "cd1810a2-5ffa-4143-9e40-babc341076c2"
   },
   "outputs": [],
   "source": [
    "inf_input = copy.deepcopy(model_ga_top)\n",
    "\n",
    "random_image_dep_top = []\n",
    "\n",
    "for i in tqdm.tqdm(range(2000)):    \n",
    "    inf_input.output_dict['variable'][7] = randint(df_rgb2['r_avg'].min(), df_rgb2['r_avg'].max())\n",
    "    inf_input.output_dict['variable'][8] = randint(df_rgb2['g_avg'].min(), df_rgb2['g_avg'].max())\n",
    "    inf_input.output_dict['variable'][9] = randint(df_rgb2['b_avg'].min(), df_rgb2['b_avg'].max())\n",
    "    input_converted = input_conversion(inf_input.output_dict['variable'])\n",
    "    input_converted = np.array(input_converted).reshape(1, -1)\n",
    "\n",
    "    input_scaled = scaler.transform(input_converted)\n",
    "    prediction = voting_clf.predict(input_scaled)    \n",
    "    random_image_dep_top.append([i, int(prediction)])"
   ]
  },
  {
   "cell_type": "code",
   "execution_count": null,
   "metadata": {
    "colab": {
     "base_uri": "https://localhost:8080/",
     "height": 298
    },
    "id": "F29F_n0jYWq9",
    "outputId": "82d7d831-cc3b-4cfb-913e-df4298ceeff4"
   },
   "outputs": [],
   "source": [
    "random_image_dep_top_df = pd.DataFrame(random_image_dep_top, columns=['Random_image', 'Views'])\n",
    "\n",
    "plt.grid()\n",
    "plt.title('Thumbnail image dependency')\n",
    "plt.plot(random_image_dep_top_df['Random_image'], random_image_dep_top_df['Views'])"
   ]
  },
  {
   "cell_type": "code",
   "execution_count": null,
   "metadata": {
    "colab": {
     "base_uri": "https://localhost:8080/",
     "height": 365
    },
    "id": "XSj1lsSFYWq9",
    "outputId": "c9667e61-5973-4dd8-97cb-10065373501c"
   },
   "outputs": [],
   "source": [
    "plt.grid()\n",
    "plt.title('Views distribution for randomized thumbnail images')\n",
    "plt.xlabel('Views')\n",
    "plt.ylabel('Counts')\n",
    "plt.hist(random_image_dep_top_df['Views'], bins=96)\n",
    "\n",
    "print('Average views:', random_image_dep_top_df['Views'].mean())\n",
    "print('Median views:', random_image_dep_top_df['Views'].median())\n",
    "print('Standard deviation of views [count]:', random_image_dep_top_df['Views'].std())\n",
    "print('Standard deviation of views     [%]:', random_image_dep_top_df['Views'].std()*100 / random_image_dep_top_df['Views'].mean())"
   ]
  },
  {
   "cell_type": "code",
   "execution_count": null,
   "metadata": {
    "colab": {
     "base_uri": "https://localhost:8080/"
    },
    "id": "vC7FjWj9YWq9",
    "outputId": "29b5e88d-031f-4663-fa2f-88467b11099f"
   },
   "outputs": [],
   "source": [
    "inf_input = copy.deepcopy(model_ga_top)\n",
    "\n",
    "channel_title_dep_top = []\n",
    "\n",
    "for i in tqdm.tqdm(range(len(mean_encode_channel))):\n",
    "    inf_input.output_dict['variable'][10] = i \n",
    "    \n",
    "    input_converted = input_conversion(inf_input.output_dict['variable'])\n",
    "    input_converted = np.array(input_converted).reshape(1, -1)\n",
    "\n",
    "    input_scaled = scaler.transform(input_converted)\n",
    "    prediction = voting_clf.predict(input_scaled)    \n",
    "    channel_title_dep_top.append([mean_encode_channel.index[i], int(prediction)])"
   ]
  },
  {
   "cell_type": "code",
   "execution_count": null,
   "metadata": {
    "colab": {
     "base_uri": "https://localhost:8080/",
     "height": 312
    },
    "id": "KnqcdA2pYWq9",
    "outputId": "6140d463-9157-433c-aff2-27bc075c36be"
   },
   "outputs": [],
   "source": [
    "channel_title_dep_top_df = pd.DataFrame(channel_title_dep_top, columns=['channel_title', 'views'])\n",
    "\n",
    "plt.title('Channel dependency for top YouTuber')\n",
    "plt.xlabel('Channel name')\n",
    "plt.ylabel('Views')\n",
    "plt.yscale('log')\n",
    "plt.grid()\n",
    "plt.bar(range(len(channel_title_dep_top_df['channel_title'])), channel_title_dep_top_df['views'])"
   ]
  },
  {
   "cell_type": "code",
   "execution_count": null,
   "metadata": {
    "colab": {
     "base_uri": "https://localhost:8080/",
     "height": 359
    },
    "id": "ScwPeSdSYWq9",
    "outputId": "97cdc4fd-1675-4289-8449-47bbe2cf770c"
   },
   "outputs": [],
   "source": [
    "channel_title_dep_top_df.sort_values(by='views', ascending=False).head(10)"
   ]
  },
  {
   "cell_type": "code",
   "execution_count": null,
   "metadata": {
    "colab": {
     "base_uri": "https://localhost:8080/",
     "height": 365
    },
    "id": "1olyLORqYWq-",
    "outputId": "30ae8463-a58c-4af7-b365-6d7a648592c9"
   },
   "outputs": [],
   "source": [
    "plt.grid()\n",
    "plt.title('Views distribution for different channels')\n",
    "plt.xlabel('Views')\n",
    "plt.ylabel('Counts')\n",
    "plt.yscale('log')\n",
    "plt.hist(channel_title_dep_top_df['views'], bins=96)\n",
    "\n",
    "print('Average views:', channel_title_dep_top_df['views'].mean())\n",
    "print('Median views:', channel_title_dep_top_df['views'].median())\n",
    "print('Standard deviation of views [count]:', channel_title_dep_top_df['views'].std())\n",
    "print('Standard deviation of views     [%]:', channel_title_dep_top_df['views'].std()*100 / channel_title_dep_top_df['views'].mean())"
   ]
  },
  {
   "cell_type": "code",
   "execution_count": null,
   "metadata": {
    "colab": {
     "base_uri": "https://localhost:8080/",
     "height": 974
    },
    "id": "OqkkUjJEAz48",
    "outputId": "13658c9c-3e6e-48b0-8d6c-ccb3765c0305"
   },
   "outputs": [],
   "source": [
    "df_rgb2.sort_values(by='views', ascending=False).head(10)"
   ]
  },
  {
   "cell_type": "code",
   "execution_count": null,
   "metadata": {
    "id": "AqGhuqB7VJY2"
   },
   "outputs": [],
   "source": []
  }
 ],
 "metadata": {
  "colab": {
   "collapsed_sections": [],
   "name": "Part_4_YouTuber_6.ipynb",
   "provenance": [],
   "toc_visible": true
  },
  "kernelspec": {
   "display_name": "Python 3",
   "language": "python",
   "name": "python3"
  },
  "language_info": {
   "codemirror_mode": {
    "name": "ipython",
    "version": 3
   },
   "file_extension": ".py",
   "mimetype": "text/x-python",
   "name": "python",
   "nbconvert_exporter": "python",
   "pygments_lexer": "ipython3",
   "version": "3.8.8"
  }
 },
 "nbformat": 4,
 "nbformat_minor": 1
}
